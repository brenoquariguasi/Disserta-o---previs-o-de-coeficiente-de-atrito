{
 "cells": [
  {
   "cell_type": "code",
   "execution_count": null,
   "metadata": {},
   "outputs": [],
   "source": [
    "import numpy as np\n",
    "import pandas as pd\n",
    "import matplotlib.pyplot as plt\n",
    "from sklearn.model_selection import train_test_split\n",
    "from sklearn.preprocessing import MinMaxScaler, StandardScaler, MaxAbsScaler\n",
    "from sklearn.neural_network import MLPRegressor\n",
    "from sklearn.metrics import mean_squared_error, mean_absolute_error\n",
    "import time"
   ]
  },
  {
   "cell_type": "code",
   "execution_count": null,
   "metadata": {},
   "outputs": [],
   "source": [
    "df = pd.read_csv('Todos.csv', sep=';')\n",
    "df = df.drop(['Operacoes_medicoes', 'Temperatura_ensaio','Operacoes_anual', 'Nivel de atrito'], axis=1)\n",
    "X = df.loc[:, ['Distancia_medicao', 'Lado', 'Remocao_anterior', 'Idade_pavimento_meses', 'Umidade_AISWEB', 'Operacoes_remocoes']]\n",
    "Y = df['Atrito']"
   ]
  },
  {
   "cell_type": "markdown",
   "metadata": {},
   "source": [
    "## Dividindo os conjuntos de dados entre 90% para Treinamento e 10% para Teste"
   ]
  },
  {
   "cell_type": "code",
   "execution_count": null,
   "metadata": {},
   "outputs": [],
   "source": [
    "X_train, X_test, y_train, y_test = train_test_split(X, Y, test_size=0.1, random_state=0)"
   ]
  },
  {
   "cell_type": "markdown",
   "metadata": {},
   "source": [
    "## Pré-processando os dados de entrada utilizando o pré-processamento Standard Scaler"
   ]
  },
  {
   "cell_type": "markdown",
   "metadata": {},
   "source": [
    "\\begin{equation}\n",
    "\tz = \\frac{(x - \\overline{x})}{s}\n",
    "\\end{equation}\n",
    "$z$: valor normalizado;<br>\n",
    "$x$: valor a ser normalizado;<br>\n",
    "$\\overline{x}$: média;<br>\n",
    "$s$: desvio padrão.\n",
    "\n",
    "Fonte: https://scikit-learn.org/stable/modules/generated/sklearn.preprocessing.StandardScaler.html"
   ]
  },
  {
   "cell_type": "code",
   "execution_count": null,
   "metadata": {},
   "outputs": [],
   "source": [
    "scaler_x = StandardScaler()\n",
    "scaler_x.fit(X_train) # Ajustando os dados para a média e desvio padrão do conjunto de teste\n",
    "X_train = scaler_x.transform(X_train) # Aplicando a transformação no conjunto de treinamento\n",
    "X_test = scaler_x.transform(X_test) # O conjunto de teste é pré-processado de acordo com o conjunto de treinamento"
   ]
  },
  {
   "cell_type": "markdown",
   "metadata": {},
   "source": [
    "# Testando 1 camada"
   ]
  },
  {
   "cell_type": "code",
   "execution_count": null,
   "metadata": {},
   "outputs": [],
   "source": [
    "inicio = time.time()\n",
    "\n",
    "quantidade_arq_testadas = 0\n",
    "\n",
    "mae_teste_min = 1\n",
    "\n",
    "for i in np.arange(1, 101):\n",
    "    for k in ['logistic', 'tanh', 'relu']:\n",
    "        for m in np.arange(0, 11):\n",
    "            reg = MLPRegressor(\n",
    "                hidden_layer_sizes=(i,),\n",
    "                activation=k,\n",
    "                solver='lbfgs',\n",
    "                alpha=0.1,\n",
    "                random_state=m,\n",
    "                max_iter=600)\n",
    "            \n",
    "            reg.fit(X_train, y_train)\n",
    "            \n",
    "            armazenando_score_teste = reg.score(X_test, y_test)\n",
    "                \n",
    "            armazenando_score_treinamento = reg.score(X_train, y_train)\n",
    "                \n",
    "            quantidade_arq_testadas += 1\n",
    "                        \n",
    "            ultimo_neuronio_camada_1 = i\n",
    "                \n",
    "            ultima_funcao_ativacao = k\n",
    "                \n",
    "            ultimo_random_state = m\n",
    "                \n",
    "            mae_teste = mean_absolute_error(y_test, reg.predict(X_test))\n",
    "                        \n",
    "            print('Cam 1: %.i' %i, 'F. Ativ.: %s' %k, 'Rnd St: %.i' %m,'Arq_testadas: %.0i' %quantidade_arq_testadas, 'R² treino: %.2f' %(armazenando_score_treinamento*100), 'R² teste: %.2f' %(armazenando_score_teste*100), 'mae_teste: %.3f' %mae_teste)\n",
    "                        \n",
    "            if mae_teste < mae_teste_min: # Esse if é utilizado para salvar apenas o melhor valor de Escore no teste e assim otimizar o algoritmo\n",
    "                mae_teste_min = mae_teste\n",
    "                mse_teste = mean_squared_error(y_test, reg.predict(X_test))\n",
    "                armazenando_score_teste_max = armazenando_score_teste\n",
    "                neuronios_camada_1 = i\n",
    "                funcao_ativacao = k\n",
    "                random_state = m\n",
    "            \n",
    "            \n",
    "            fim = time.time()\n",
    "            tempo_total = fim - inicio\n",
    "print('mae_teste_min: %.3f\\n' %mae_teste_min, 'armazenando_score_teste_max: %.2f' %(armazenando_score_teste_max*100))"
   ]
  },
  {
   "cell_type": "markdown",
   "metadata": {},
   "source": [
    "## Apresentando os melhores resultados"
   ]
  },
  {
   "cell_type": "code",
   "execution_count": null,
   "metadata": {},
   "outputs": [],
   "source": [
    "print('Taxa de acerto do teste: %.2f' %(armazenando_score_teste_max*100))\n",
    "print('Erro Quadrático Médio do teste: %.3f' %mse_teste)\n",
    "print('Erro Médio Absoluto do teste: %.3f' %mae_teste_min)"
   ]
  },
  {
   "cell_type": "markdown",
   "metadata": {},
   "source": [
    "## Salvando os resultados"
   ]
  },
  {
   "cell_type": "code",
   "execution_count": null,
   "metadata": {},
   "outputs": [],
   "source": [
    "np.savetxt('M2_1_camada.txt',\n",
    "    np.c_[armazenando_score_teste_max,\n",
    "          mae_teste_min,\n",
    "          mse_teste,\n",
    "          neuronios_camada_1,\n",
    "          random_state,\n",
    "          tempo_total],\n",
    "    fmt='%.4f',\n",
    "    newline='\\n',\n",
    "    header='#armazenando_score_teste_max #mae_teste_min #mse_teste #neuronios_camada_1 #random_state #tempo_total',\n",
    "    comments='funcao_ativacao %s\\n' %funcao_ativacao)"
   ]
  },
  {
   "cell_type": "markdown",
   "metadata": {},
   "source": [
    "# Testando 2 camadas"
   ]
  },
  {
   "cell_type": "code",
   "execution_count": null,
   "metadata": {},
   "outputs": [],
   "source": [
    "inicio = time.time()\n",
    "\n",
    "quantidade_arq_testadas = 0\n",
    "\n",
    "mae_teste_min = 1\n",
    "\n",
    "for j in np.arange(1, 101):\n",
    "    for i in np.arange(1, 101):\n",
    "        for k in ['logistic', 'tanh', 'relu']:\n",
    "            for m in np.arange(0, 11):\n",
    "                reg = MLPRegressor(\n",
    "                    hidden_layer_sizes=(i,j),\n",
    "                    activation=k,\n",
    "                    solver='lbfgs',\n",
    "                    alpha=0.1,\n",
    "                    random_state=m,\n",
    "                    max_iter=600)\n",
    "            \n",
    "                reg.fit(X_train, y_train)\n",
    "            \n",
    "                armazenando_score_teste = reg.score(X_test, y_test)\n",
    "                \n",
    "                armazenando_score_treinamento = reg.score(X_train, y_train)\n",
    "                \n",
    "                quantidade_arq_testadas += 1\n",
    "                        \n",
    "                ultimo_neuronio_camada_1 = i\n",
    "                        \n",
    "                ultimo_neuronio_camada_2 = j\n",
    "                \n",
    "                ultima_funcao_ativacao = k\n",
    "                \n",
    "                ultimo_random_state = m\n",
    "                \n",
    "                mae_teste = mean_absolute_error(y_test, reg.predict(X_test))\n",
    "                        \n",
    "                print('Cam 1: %.i' %i, 'Cam 2: %.i' %j, 'F. Ativ.: %s' %k, 'Rnd St: %.i' %m,'Arq_testadas: %.0i' %quantidade_arq_testadas, 'R² treino: %.2f' %(armazenando_score_treinamento*100), 'R² teste: %.2f' %(armazenando_score_teste*100), 'mae_teste: %.3f' %mae_teste)\n",
    "                        \n",
    "                if mae_teste < mae_teste_min: # Esse if é utilizado para salvar apenas o melhor valor de Escore no teste e assim otimizar o algoritmo\n",
    "                    mae_teste_min = mae_teste\n",
    "                    mse_teste = mean_squared_error(y_test, reg.predict(X_test))\n",
    "                    armazenando_score_teste_max = armazenando_score_teste\n",
    "                    neuronios_camada_1 = i\n",
    "                    neuronios_camada_2 = j\n",
    "                    funcao_ativacao = k\n",
    "                    random_state = m\n",
    "            \n",
    "            \n",
    "                fim = time.time()\n",
    "                tempo_total = fim - inicio\n",
    "print('mae_teste_min: %.3f\\n' %mae_teste_min, 'armazenando_score_teste_max: %.2f' %(armazenando_score_teste_max*100))"
   ]
  },
  {
   "cell_type": "markdown",
   "metadata": {},
   "source": [
    "## Apresentando os melhores resultados"
   ]
  },
  {
   "cell_type": "code",
   "execution_count": null,
   "metadata": {},
   "outputs": [],
   "source": [
    "print('Taxa de acerto do teste: %.2f' %(armazenando_score_teste_max*100))\n",
    "print('Erro Quadrático Médio do teste: %.3f' %mse_teste)\n",
    "print('Erro Médio Absoluto do teste: %.3f' %mae_teste_min)"
   ]
  },
  {
   "cell_type": "markdown",
   "metadata": {},
   "source": [
    "## Salvando os resultados"
   ]
  },
  {
   "cell_type": "code",
   "execution_count": null,
   "metadata": {},
   "outputs": [],
   "source": [
    "np.savetxt('M2_2_camadas.txt',\n",
    "    np.c_[armazenando_score_teste_max,\n",
    "          mae_teste_min,\n",
    "          mse_teste,\n",
    "          neuronios_camada_1,\n",
    "          neuronios_camada_2,\n",
    "          random_state,\n",
    "          tempo_total],\n",
    "    fmt='%.4f',\n",
    "    newline='\\n',\n",
    "    header='#armazenando_score_teste_max #mae_teste_min #mse_teste #neuronios_camada_1 #neuronios_camada_2 #random_state #tempo_total',\n",
    "    comments='funcao_ativacao %s\\n' %funcao_ativacao)"
   ]
  },
  {
   "cell_type": "markdown",
   "metadata": {},
   "source": [
    "## Pré-processando os dados de entrada utilizando o pré-processamento MinMaxScaler"
   ]
  },
  {
   "cell_type": "markdown",
   "metadata": {},
   "source": [
    "\\begin{equation}\n",
    " z = \\frac{(x - x_\\textit{min}) \\times (d_2 - d_1)}{(x_\\textit{max} - x_\\textit{min})} + d_1\n",
    "\\end{equation}\n",
    "$z$: valor normalizado;\n",
    "\n",
    "$x$: valor a ser normalizado;\n",
    "\n",
    "$x_{max}$ e $x_{min}$: variação do valor de $x$;\n",
    "\n",
    "$d_1$ e $d_2$: limite ao qual o valor $x$ será reduzido.\n",
    "\n",
    "Fonte: https://scikit-learn.org/stable/modules/generated/sklearn.preprocessing.MinMaxScaler.html"
   ]
  },
  {
   "cell_type": "markdown",
   "metadata": {},
   "source": [
    "### Dividindo o cojunto de dados em 90% Treinamento e 10% Teste"
   ]
  },
  {
   "cell_type": "code",
   "execution_count": null,
   "metadata": {},
   "outputs": [],
   "source": [
    "X_train, X_test, y_train, y_test = train_test_split(X, Y, test_size=0.1, random_state=0)"
   ]
  },
  {
   "cell_type": "markdown",
   "metadata": {},
   "source": [
    "### Pré-processamento dos dados\n",
    "**NOTA: Os dados de saída (coeficiente de atrito) foram normalizados**"
   ]
  },
  {
   "cell_type": "code",
   "execution_count": null,
   "metadata": {},
   "outputs": [],
   "source": [
    "train = pd.concat([pd.DataFrame(X_train, columns=X.columns), pd.Series(y_train)], axis=1)\n",
    "mas_scaler = MaxAbsScaler()\n",
    "mas_scaler.fit(train)\n",
    "train = mas_scaler.transform(train)\n",
    "X_train, y_train = pd.DataFrame(train[:, :6], columns=X.columns), pd.Series(train[:, 6])\n",
    "\n",
    "test = pd.concat([pd.DataFrame(X_test, columns=X.columns), pd.Series(y_test)], axis=1)\n",
    "test = mas_scaler.transform(test)\n",
    "X_test, y_test = pd.DataFrame(test[:, :6], columns=X.columns), pd.Series(test[:, 6])"
   ]
  },
  {
   "cell_type": "markdown",
   "metadata": {},
   "source": [
    "### Estatítisca descritiva do conjunto de entrada do treinamento"
   ]
  },
  {
   "cell_type": "code",
   "execution_count": null,
   "metadata": {
    "scrolled": true
   },
   "outputs": [],
   "source": [
    "X_train.describe().round(2)"
   ]
  },
  {
   "cell_type": "markdown",
   "metadata": {},
   "source": [
    "### Estatítisca descritiva do conjunto de entrada do teste"
   ]
  },
  {
   "cell_type": "code",
   "execution_count": null,
   "metadata": {},
   "outputs": [],
   "source": [
    "X_test.describe().round(2)"
   ]
  },
  {
   "cell_type": "markdown",
   "metadata": {},
   "source": [
    "# Testando 1 camada"
   ]
  },
  {
   "cell_type": "code",
   "execution_count": null,
   "metadata": {},
   "outputs": [],
   "source": [
    "inicio = time.time()\n",
    "\n",
    "quantidade_arq_testadas = 0\n",
    "\n",
    "mae_teste_min = 1\n",
    "\n",
    "armazenando_score_teste_max = 0\n",
    "\n",
    "for i in np.arange(1, 101):\n",
    "    for k in ['logistic', 'tanh', 'relu']:\n",
    "        for m in np.arange(0, 11):\n",
    "            reg = MLPRegressor(\n",
    "                hidden_layer_sizes=(i,),\n",
    "                activation=k,\n",
    "                solver='lbfgs',\n",
    "                alpha=0.1,\n",
    "                random_state=m,\n",
    "                max_iter=600)\n",
    "            \n",
    "            reg.fit(X_train, y_train)\n",
    "            \n",
    "            armazenando_score_teste = reg.score(X_test, y_test)\n",
    "                \n",
    "            armazenando_score_treinamento = reg.score(X_train, y_train)\n",
    "                \n",
    "            quantidade_arq_testadas += 1\n",
    "                        \n",
    "            ultimo_neuronio_camada_1 = i\n",
    "                \n",
    "            ultima_funcao_ativacao = k\n",
    "                \n",
    "            ultimo_random_state = m\n",
    "                \n",
    "            mae_teste = mean_absolute_error(y_test, reg.predict(X_test))\n",
    "                        \n",
    "            print('Cam 1: %.i' %i, 'F. Ativ.: %s' %k, 'Rnd St: %.i' %m,'Arq_testadas: %.0i' %quantidade_arq_testadas, 'R² treino: %.2f' %(armazenando_score_treinamento*100), 'R² teste: %.2f' %(armazenando_score_teste*100), 'mae_teste: %.3f' %mae_teste)\n",
    "                        \n",
    "            if mae_teste < mae_teste_min: # Esse if é utilizado para salvar apenas o melhor valor de Escore no teste e assim otimizar o algoritmo\n",
    "                mae_teste_min = mae_teste\n",
    "                mse_teste = mean_squared_error(y_test, reg.predict(X_test))\n",
    "                armazenando_score_teste_max = armazenando_score_teste\n",
    "                neuronios_camada_1 = i\n",
    "                funcao_ativacao = k\n",
    "                random_state = m\n",
    "            \n",
    "            \n",
    "            fim = time.time()\n",
    "            tempo_total = fim - inicio\n",
    "print('mae_teste_min: %.3f\\n' %mae_teste_min, 'armazenando_score_teste_max: %.2f' %(armazenando_score_teste_max*100))"
   ]
  },
  {
   "cell_type": "markdown",
   "metadata": {},
   "source": [
    "## Apresentando os melhores resultados"
   ]
  },
  {
   "cell_type": "code",
   "execution_count": null,
   "metadata": {},
   "outputs": [],
   "source": [
    "print('Taxa de acerto do teste: %.2f' %(armazenando_score_teste_max*100))\n",
    "print('Erro Quadrático Médio do teste: %.3f' %mse_teste)\n",
    "print('Erro Médio Absoluto do teste: %.3f' %mae_teste_min)"
   ]
  },
  {
   "cell_type": "markdown",
   "metadata": {},
   "source": [
    "## Salvando os resultados"
   ]
  },
  {
   "cell_type": "code",
   "execution_count": null,
   "metadata": {},
   "outputs": [],
   "source": [
    "np.savetxt('M2_1_camada_mms.txt',\n",
    "    np.c_[armazenando_score_teste_max,\n",
    "          mae_teste_min,\n",
    "          mse_teste,\n",
    "          neuronios_camada_1,\n",
    "          random_state,\n",
    "          tempo_total],\n",
    "    fmt='%.4f',\n",
    "    newline='\\n',\n",
    "    header='#armazenando_score_teste_max #mae_teste_min #mse_teste #neuronios_camada_1 #random_state #tempo_total',\n",
    "    comments='funcao_ativacao %s\\n' %funcao_ativacao)"
   ]
  },
  {
   "cell_type": "markdown",
   "metadata": {},
   "source": [
    "# Testando 2 camadas"
   ]
  },
  {
   "cell_type": "code",
   "execution_count": null,
   "metadata": {},
   "outputs": [],
   "source": [
    "inicio = time.time()\n",
    "\n",
    "quantidade_arq_testadas = 0\n",
    "\n",
    "mae_teste_min = 1\n",
    "\n",
    "for j in np.arange(1, 101):\n",
    "    for i in np.arange(1, 101):\n",
    "        for k in ['logistic', 'tanh', 'relu']:\n",
    "            for m in np.arange(0, 11):\n",
    "                reg = MLPRegressor(\n",
    "                    hidden_layer_sizes=(i,j),\n",
    "                    activation=k,\n",
    "                    solver='lbfgs',\n",
    "                    alpha=0.1,\n",
    "                    random_state=m,\n",
    "                    max_iter=600)\n",
    "            \n",
    "                reg.fit(X_train, y_train)\n",
    "            \n",
    "                armazenando_score_teste = reg.score(X_test, y_test)\n",
    "                \n",
    "                armazenando_score_treinamento = reg.score(X_train, y_train)\n",
    "                \n",
    "                quantidade_arq_testadas += 1\n",
    "                        \n",
    "                ultimo_neuronio_camada_1 = i\n",
    "                        \n",
    "                ultimo_neuronio_camada_2 = j\n",
    "                \n",
    "                ultima_funcao_ativacao = k\n",
    "                \n",
    "                ultimo_random_state = m\n",
    "                \n",
    "                mae_teste = mean_absolute_error(y_test, reg.predict(X_test))\n",
    "                        \n",
    "                print('Cam 1: %.i' %i, 'Cam 2: %.i' %j, 'F. Ativ.: %s' %k, 'Rnd St: %.i' %m,'Arq_testadas: %.0i' %quantidade_arq_testadas, 'R² treino: %.2f' %(armazenando_score_treinamento*100), 'R² teste: %.2f' %(armazenando_score_teste*100), 'mae_teste: %.3f' %mae_teste)\n",
    "                        \n",
    "                if mae_teste < mae_teste_min: # Esse if é utilizado para salvar apenas o melhor valor de Escore no teste e assim otimizar o algoritmo\n",
    "                    mae_teste_min = mae_teste\n",
    "                    mse_teste = mean_squared_error(y_test, reg.predict(X_test))\n",
    "                    armazenando_score_teste_max = armazenando_score_teste\n",
    "                    neuronios_camada_1 = i\n",
    "                    neuronios_camada_2 = j\n",
    "                    funcao_ativacao = k\n",
    "                    random_state = m\n",
    "            \n",
    "            \n",
    "                fim = time.time()\n",
    "                tempo_total = fim - inicio\n",
    "print('mae_teste_min: %.3f\\n' %mae_teste_min, 'armazenando_score_teste_max: %.2f' %(armazenando_score_teste_max*100))"
   ]
  },
  {
   "cell_type": "markdown",
   "metadata": {},
   "source": [
    "## Apresentando os melhores resultados"
   ]
  },
  {
   "cell_type": "code",
   "execution_count": null,
   "metadata": {},
   "outputs": [],
   "source": [
    "print('Taxa de acerto do teste: %.2f' %(armazenando_score_teste_max*100))\n",
    "print('Erro Quadrático Médio do teste: %.3f' %mse_teste)\n",
    "print('Erro Médio Absoluto do teste: %.3f' %mae_teste_min)"
   ]
  },
  {
   "cell_type": "markdown",
   "metadata": {},
   "source": [
    "## Salvando os resultados"
   ]
  },
  {
   "cell_type": "code",
   "execution_count": null,
   "metadata": {},
   "outputs": [],
   "source": [
    "np.savetxt('M2_2_camadas_mms.txt',\n",
    "    np.c_[armazenando_score_teste_max,\n",
    "          mae_teste_min,\n",
    "          mse_teste,\n",
    "          neuronios_camada_1,\n",
    "          neuronios_camada_2,\n",
    "          random_state,\n",
    "          tempo_total],\n",
    "    fmt='%.4f',\n",
    "    newline='\\n',\n",
    "    header='#armazenando_score_teste_max #mae_teste_min #mse_teste #neuronios_camada_1 #neuronios_camada_2 #random_state #tempo_total',\n",
    "    comments='funcao_ativacao %s\\n' %funcao_ativacao)"
   ]
  },
  {
   "cell_type": "markdown",
   "metadata": {},
   "source": [
    "## Pré-processando os dados de entrada utilizando o pré-processamento MaxAbsScaler\n",
    "\n",
    "Fonte: https://scikit-learn.org/stable/modules/generated/sklearn.preprocessing.MaxAbsScaler.html#sklearn.preprocessing.MaxAbsScaler"
   ]
  },
  {
   "cell_type": "markdown",
   "metadata": {},
   "source": [
    "### Dividindo o cojunto de dados em 90% Treinamento e 10% Teste"
   ]
  },
  {
   "cell_type": "code",
   "execution_count": null,
   "metadata": {},
   "outputs": [],
   "source": [
    "X_train, X_test, y_train, y_test = train_test_split(X, Y, test_size=0.1, random_state=0)"
   ]
  },
  {
   "cell_type": "markdown",
   "metadata": {},
   "source": [
    "### Pré-processamento dos dados\n",
    "**NOTA: Os dados de saída (coeficiente de atrito) foram normalizados**"
   ]
  },
  {
   "cell_type": "code",
   "execution_count": null,
   "metadata": {},
   "outputs": [],
   "source": [
    "train = pd.concat([pd.DataFrame(X_train, columns=X.columns), pd.Series(y_train)], axis=1)\n",
    "mas_scaler = MinMaxScaler()\n",
    "mas_scaler.fit(train)\n",
    "train = mas_scaler.transform(train)\n",
    "X_train, y_train = pd.DataFrame(train[:, :6], columns=X.columns), pd.Series(train[:, 6])\n",
    "\n",
    "test = pd.concat([pd.DataFrame(X_test, columns=X.columns), pd.Series(y_test)], axis=1)\n",
    "test = mas_scaler.transform(test)\n",
    "X_test, y_test = pd.DataFrame(test[:, :6], columns=X.columns), pd.Series(test[:, 6])"
   ]
  },
  {
   "cell_type": "markdown",
   "metadata": {},
   "source": [
    "### Estatítisca descritiva do conjunto de entrada do treinamento"
   ]
  },
  {
   "cell_type": "code",
   "execution_count": null,
   "metadata": {
    "scrolled": true
   },
   "outputs": [],
   "source": [
    "X_train.describe().round(2)"
   ]
  },
  {
   "cell_type": "markdown",
   "metadata": {},
   "source": [
    "### Estatítisca descritiva do conjunto de entrada do teste"
   ]
  },
  {
   "cell_type": "code",
   "execution_count": null,
   "metadata": {},
   "outputs": [],
   "source": [
    "X_test.describe().round(2)"
   ]
  },
  {
   "cell_type": "markdown",
   "metadata": {},
   "source": [
    "# Testando 1 camada"
   ]
  },
  {
   "cell_type": "code",
   "execution_count": null,
   "metadata": {},
   "outputs": [],
   "source": [
    "inicio = time.time()\n",
    "\n",
    "quantidade_arq_testadas = 0\n",
    "\n",
    "mae_teste_min = 1\n",
    "\n",
    "armazenando_score_teste_max = 0\n",
    "\n",
    "for i in np.arange(1, 101):\n",
    "    for k in ['logistic', 'tanh', 'relu']:\n",
    "        for m in np.arange(0, 11):\n",
    "            reg = MLPRegressor(\n",
    "                hidden_layer_sizes=(i,),\n",
    "                activation=k,\n",
    "                solver='lbfgs',\n",
    "                alpha=0.1,\n",
    "                random_state=m,\n",
    "                max_iter=600)\n",
    "            \n",
    "            reg.fit(X_train, y_train)\n",
    "            \n",
    "            armazenando_score_teste = reg.score(X_test, y_test)\n",
    "                \n",
    "            armazenando_score_treinamento = reg.score(X_train, y_train)\n",
    "                \n",
    "            quantidade_arq_testadas += 1\n",
    "                        \n",
    "            ultimo_neuronio_camada_1 = i\n",
    "                \n",
    "            ultima_funcao_ativacao = k\n",
    "                \n",
    "            ultimo_random_state = m\n",
    "                \n",
    "            mae_teste = mean_absolute_error(y_test, reg.predict(X_test))\n",
    "                        \n",
    "            print('Cam 1: %.i' %i, 'F. Ativ.: %s' %k, 'Rnd St: %.i' %m,'Arq_testadas: %.0i' %quantidade_arq_testadas, 'R² treino: %.2f' %(armazenando_score_treinamento*100), 'R² teste: %.2f' %(armazenando_score_teste*100), 'mae_teste: %.3f' %mae_teste)\n",
    "                        \n",
    "            if mae_teste < mae_teste_min: # Esse if é utilizado para salvar apenas o melhor valor de Escore no teste e assim otimizar o algoritmo\n",
    "                mae_teste_min = mae_teste\n",
    "                mse_teste = mean_squared_error(y_test, reg.predict(X_test))\n",
    "                armazenando_score_teste_max = armazenando_score_teste\n",
    "                neuronios_camada_1 = i\n",
    "                funcao_ativacao = k\n",
    "                random_state = m\n",
    "            \n",
    "            \n",
    "            fim = time.time()\n",
    "            tempo_total = fim - inicio\n",
    "print('mae_teste_min: %.3f\\n' %mae_teste_min, 'armazenando_score_teste_max: %.2f' %(armazenando_score_teste_max*100))"
   ]
  },
  {
   "cell_type": "markdown",
   "metadata": {},
   "source": [
    "## Apresentando os melhores resultados"
   ]
  },
  {
   "cell_type": "code",
   "execution_count": null,
   "metadata": {},
   "outputs": [],
   "source": [
    "print('Taxa de acerto do teste: %.2f' %(armazenando_score_teste_max*100))\n",
    "print('Erro Quadrático Médio do teste: %.3f' %mse_teste)\n",
    "print('Erro Médio Absoluto do teste: %.3f' %mae_teste_min)"
   ]
  },
  {
   "cell_type": "markdown",
   "metadata": {},
   "source": [
    "## Salvando os resultados"
   ]
  },
  {
   "cell_type": "code",
   "execution_count": null,
   "metadata": {},
   "outputs": [],
   "source": [
    "np.savetxt('M2_1_camada_mas.txt',\n",
    "    np.c_[armazenando_score_teste_max,\n",
    "          mae_teste_min,\n",
    "          mse_teste,\n",
    "          neuronios_camada_1,\n",
    "          random_state,\n",
    "          tempo_total],\n",
    "    fmt='%.4f',\n",
    "    newline='\\n',\n",
    "    header='#armazenando_score_teste_max #mae_teste_min #mse_teste #neuronios_camada_1 #random_state #tempo_total',\n",
    "    comments='funcao_ativacao %s\\n' %funcao_ativacao)"
   ]
  },
  {
   "cell_type": "markdown",
   "metadata": {},
   "source": [
    "# Testando 2 camadas"
   ]
  },
  {
   "cell_type": "code",
   "execution_count": null,
   "metadata": {},
   "outputs": [],
   "source": [
    "inicio = time.time()\n",
    "\n",
    "quantidade_arq_testadas = 0\n",
    "\n",
    "mae_teste_min = 1\n",
    "\n",
    "for j in np.arange(1, 101):\n",
    "    for i in np.arange(1, 101):\n",
    "        for k in ['logistic', 'tanh', 'relu']:\n",
    "            for m in np.arange(0, 11):\n",
    "                reg = MLPRegressor(\n",
    "                    hidden_layer_sizes=(i,j),\n",
    "                    activation=k,\n",
    "                    solver='lbfgs',\n",
    "                    alpha=0.1,\n",
    "                    random_state=m,\n",
    "                    max_iter=600)\n",
    "            \n",
    "                reg.fit(X_train, y_train)\n",
    "            \n",
    "                armazenando_score_teste = reg.score(X_test, y_test)\n",
    "                \n",
    "                armazenando_score_treinamento = reg.score(X_train, y_train)\n",
    "                \n",
    "                quantidade_arq_testadas += 1\n",
    "                        \n",
    "                ultimo_neuronio_camada_1 = i\n",
    "                        \n",
    "                ultimo_neuronio_camada_2 = j\n",
    "                \n",
    "                ultima_funcao_ativacao = k\n",
    "                \n",
    "                ultimo_random_state = m\n",
    "                \n",
    "                mae_teste = mean_absolute_error(y_test, reg.predict(X_test))\n",
    "                        \n",
    "                print('Cam 1: %.i' %i, 'Cam 2: %.i' %j, 'F. Ativ.: %s' %k, 'Rnd St: %.i' %m,'Arq_testadas: %.0i' %quantidade_arq_testadas, 'R² treino: %.2f' %(armazenando_score_treinamento*100), 'R² teste: %.2f' %(armazenando_score_teste*100), 'mae_teste: %.3f' %mae_teste)\n",
    "                        \n",
    "                if mae_teste < mae_teste_min: # Esse if é utilizado para salvar apenas o melhor valor de Escore no teste e assim otimizar o algoritmo\n",
    "                    mae_teste_min = mae_teste\n",
    "                    mse_teste = mean_squared_error(y_test, reg.predict(X_test))\n",
    "                    armazenando_score_teste_max = armazenando_score_teste\n",
    "                    neuronios_camada_1 = i\n",
    "                    neuronios_camada_2 = j\n",
    "                    funcao_ativacao = k\n",
    "                    random_state = m\n",
    "            \n",
    "            \n",
    "                fim = time.time()\n",
    "                tempo_total = fim - inicio\n",
    "print('mae_teste_min: %.3f\\n' %mae_teste_min, 'armazenando_score_teste_max: %.2f' %(armazenando_score_teste_max*100))"
   ]
  },
  {
   "cell_type": "markdown",
   "metadata": {},
   "source": [
    "## Apresentando os melhores resultados"
   ]
  },
  {
   "cell_type": "code",
   "execution_count": null,
   "metadata": {},
   "outputs": [],
   "source": [
    "print('Taxa de acerto do teste: %.2f' %(armazenando_score_teste_max*100))\n",
    "print('Erro Quadrático Médio do teste: %.3f' %mse_teste)\n",
    "print('Erro Médio Absoluto do teste: %.3f' %mae_teste_min)"
   ]
  },
  {
   "cell_type": "markdown",
   "metadata": {},
   "source": [
    "## Salvando os resultados"
   ]
  },
  {
   "cell_type": "code",
   "execution_count": null,
   "metadata": {},
   "outputs": [],
   "source": [
    "np.savetxt('M2_2_camadas_mas.txt',\n",
    "    np.c_[armazenando_score_teste_max,\n",
    "          mae_teste_min,\n",
    "          mse_teste,\n",
    "          neuronios_camada_1,\n",
    "          neuronios_camada_2,\n",
    "          random_state,\n",
    "          tempo_total],\n",
    "    fmt='%.4f',\n",
    "    newline='\\n',\n",
    "    header='#armazenando_score_teste_max #mae_teste_min #mse_teste #neuronios_camada_1 #neuronios_camada_2 #random_state #tempo_total',\n",
    "    comments='funcao_ativacao %s\\n' %funcao_ativacao)"
   ]
  },
  {
   "cell_type": "code",
   "execution_count": null,
   "metadata": {},
   "outputs": [],
   "source": []
  }
 ],
 "metadata": {
  "kernelspec": {
   "display_name": "Python 3",
   "language": "python",
   "name": "python3"
  },
  "language_info": {
   "codemirror_mode": {
    "name": "ipython",
    "version": 3
   },
   "file_extension": ".py",
   "mimetype": "text/x-python",
   "name": "python",
   "nbconvert_exporter": "python",
   "pygments_lexer": "ipython3",
   "version": "3.7.6"
  }
 },
 "nbformat": 4,
 "nbformat_minor": 4
}
