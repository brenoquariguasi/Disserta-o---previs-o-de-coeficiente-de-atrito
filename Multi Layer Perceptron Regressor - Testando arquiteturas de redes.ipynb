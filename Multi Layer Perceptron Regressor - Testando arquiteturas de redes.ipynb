{
 "cells": [
  {
   "cell_type": "code",
   "execution_count": null,
   "metadata": {},
   "outputs": [],
   "source": [
    "# Importando todas as bibliotecas necessárias\n",
    "import numpy as np\n",
    "import pandas as pd\n",
    "import matplotlib.pyplot as plt\n",
    "from sklearn.model_selection import train_test_split\n",
    "from sklearn.preprocessing import MaxAbsScaler, MinMaxScaler, StandardScaler\n",
    "from sklearn.neural_network import MLPRegressor\n",
    "from sklearn.metrics import mean_squared_error, mean_absolute_error\n",
    "import time\n",
    "\n",
    "%matplotlib inline"
   ]
  },
  {
   "cell_type": "code",
   "execution_count": null,
   "metadata": {},
   "outputs": [],
   "source": [
    "# Importando o banco de dados\n",
    "dados = pd.read_csv('Dados.csv', sep=';')\n",
    "dados = dados.drop(['Temperatura_ensaio', 'Operacoes_medicoes', 'Operacoes_anual', 'Nivel de atrito'], axis=1)\n",
    "dados.head() # Exibe as 5 primeiras linhas da matriz"
   ]
  },
  {
   "cell_type": "code",
   "execution_count": null,
   "metadata": {},
   "outputs": [],
   "source": [
    "X, Y = dados.iloc[:, :6], dados.iloc[:, 6]"
   ]
  },
  {
   "cell_type": "markdown",
   "metadata": {},
   "source": [
    "### Estatística descrtiva dos dados de entrada"
   ]
  },
  {
   "cell_type": "code",
   "execution_count": null,
   "metadata": {},
   "outputs": [],
   "source": [
    "X.describe().round(2)"
   ]
  },
  {
   "cell_type": "markdown",
   "metadata": {},
   "source": [
    "### Estatística descrtiva dos dados de saída"
   ]
  },
  {
   "cell_type": "code",
   "execution_count": null,
   "metadata": {},
   "outputs": [],
   "source": [
    "Y.describe().round(2)"
   ]
  },
  {
   "cell_type": "markdown",
   "metadata": {},
   "source": [
    "### Dividindo o conjunto de dados de entrada, X, e de saída, Y"
   ]
  },
  {
   "cell_type": "markdown",
   "metadata": {},
   "source": [
    "### Dividindo aleatoriamente os conjuntos de dados entre 90% para Treinamento e 10% para Teste\n",
    "\n",
    "\n",
    "Mais informações sobre a divisão de dados train_test_split:<br>\n",
    "https://scikit-learn.org/stable/modules/generated/sklearn.model_selection.train_test_split.html"
   ]
  },
  {
   "cell_type": "code",
   "execution_count": null,
   "metadata": {},
   "outputs": [],
   "source": [
    "X_train, X_test, y_train, y_test = train_test_split(X, Y, test_size=0.1, random_state=0)\n",
    "print('Matriz X_train:', X_train.shape)\n",
    "print('Matriz X_test:', X_test.shape)\n",
    "print('Matriz y_train:', y_train.shape)\n",
    "print('Matriz y_test:', y_test.shape)"
   ]
  },
  {
   "cell_type": "markdown",
   "metadata": {},
   "source": [
    "# Testando o pré-processamento de Standard Scaler\n",
    "\\begin{equation}\n",
    "\tz = \\frac{(x - \\overline{x})}{s}\n",
    "\\end{equation}\n",
    "$z$: valor normalizado;<br>\n",
    "$x$: valor a ser normalizado;<br>\n",
    "$\\overline{x}$: média;<br>\n",
    "$s$: desvio padrão.\n",
    "\n",
    "Fonte: https://scikit-learn.org/stable/modules/generated/sklearn.preprocessing.StandardScaler.html"
   ]
  },
  {
   "cell_type": "markdown",
   "metadata": {},
   "source": [
    "### ATENÇÃO: Na célula abaixo apenas as entradas são normalizadas"
   ]
  },
  {
   "cell_type": "code",
   "execution_count": null,
   "metadata": {},
   "outputs": [],
   "source": [
    "# Pré-processando os dados de entrada utilizando o pré-processamento Standard Scaler\n",
    "scaler_x = StandardScaler()\n",
    "scaler_x.fit(X_train) # Ajustando os dados para a média e desvio padrão do conjunto de teste\n",
    "X_train = scaler_x.transform(X_train) # Aplicando a transformação no conjunto de treinamento\n",
    "X_test = scaler_x.transform(X_test) # O conjunto de teste é pré-processado de acordo com o conjunto de treinamento"
   ]
  },
  {
   "cell_type": "markdown",
   "metadata": {},
   "source": [
    "### ATENÇÃO: Na célula abaixo as saídas também são normalizadas"
   ]
  },
  {
   "cell_type": "code",
   "execution_count": null,
   "metadata": {},
   "outputs": [],
   "source": [
    "train = pd.concat([pd.DataFrame(X_train, columns=X.columns), pd.Series(y_train)], axis=1)\n",
    "std_scaler = StandardScaler()\n",
    "std_scaler.fit(train)\n",
    "train = std_scaler.transform(train)\n",
    "X_train, y_train = pd.DataFrame(train[:, :6], columns=X.columns), pd.Series(train[:, 6])\n",
    "\n",
    "test = pd.concat([pd.DataFrame(X_test, columns=X.columns), pd.Series(y_test)], axis=1)\n",
    "test = std_scaler.transform(test)\n",
    "X_test, y_test = pd.DataFrame(test[:, :6], columns=X.columns), pd.Series(test[:, 6])"
   ]
  },
  {
   "cell_type": "markdown",
   "metadata": {},
   "source": [
    "### Estatística descritiva dos dados de entrada após o pré-processamento dos dados de entrada do Treinamento"
   ]
  },
  {
   "cell_type": "code",
   "execution_count": null,
   "metadata": {},
   "outputs": [],
   "source": [
    "pd.DataFrame(X_train, columns=X.columns).describe().round(2)"
   ]
  },
  {
   "cell_type": "markdown",
   "metadata": {},
   "source": [
    "### Estatística descritiva dos dados de entrada após o pré-processamento dos dados de entrada do Teste"
   ]
  },
  {
   "cell_type": "code",
   "execution_count": null,
   "metadata": {},
   "outputs": [],
   "source": [
    "pd.DataFrame(X_test, columns=X.columns).describe().round(2)"
   ]
  },
  {
   "cell_type": "markdown",
   "metadata": {},
   "source": [
    "**Foi utilizado o *Multilayer Perceptron Regressor (MLP Regressor)* da biblioteca Scikit-Learn para o desenvolvimento dos modelos**\n",
    "\n",
    "Mais informações sobre o MLP Regressor podem ser encontradas na página:<br> \n",
    "https://scikit-learn.org/stable/modules/generated/sklearn.neural_network.MLPRegressor.html#sklearn.neural_network.MLPRegressor"
   ]
  },
  {
   "cell_type": "markdown",
   "metadata": {},
   "source": [
    "# Treinando 1 camada oculta"
   ]
  },
  {
   "cell_type": "markdown",
   "metadata": {},
   "source": [
    "Neurônios: 1 a 100<br>\n",
    "Função de ativação: Linear Retificada (ReLU)<br>\n",
    "Solver: LBFGS<br>\n",
    "Alpha: 0.003, 0.01, 0.03, 0.3, 0.5<br>\n",
    "Nº máx. de iterações: 1.000<br>\n",
    "Random state: 0 a 11 (inicialização aleatória dos pesos)<br>\n",
    "NOTA: o hiperparâmetro **Random state** possibilita reproduzir exatamente os mesmos resultados alcançados"
   ]
  },
  {
   "cell_type": "markdown",
   "metadata": {},
   "source": [
    "***Para alterar a função de ativação deve-se alterar o hiperparâmetro 'activation' na linha 22 da célula abaixo, as seguintes funções de ativação estão disponíveis: identity (linear), logistic (sigmóide), tanh (tangente hiperbólica) e relu (linear retificada)***"
   ]
  },
  {
   "cell_type": "code",
   "execution_count": null,
   "metadata": {},
   "outputs": [],
   "source": [
    "# Nesta célula são feitas 3 iterações simultâneas:\n",
    "# i) neurônios na 1ª camada oculta;\n",
    "# ii) alpha;\n",
    "# iii) random state.\n",
    "\n",
    "inicio = time.time()\n",
    "\n",
    "# Arquitetura da rede\n",
    "alpha = [] # Alphas da rede\n",
    "\n",
    "random_state = [] # Inicialização dos pesos\n",
    "\n",
    "quantidade_arq_testadas = 0\n",
    "\n",
    "armazenando_score_teste_max = 0\n",
    "\n",
    "for i in np.arange(1, 101):  # Iteração entre 1 a 100 neurônios em uma camada oculta\n",
    "    for k in [0.003, 0.01, 0.03, 0.3, 0.5]:\n",
    "        for z in np.arange(0, 11):\n",
    "            reg_1 = MLPRegressor(\n",
    "            hidden_layer_sizes=(i,),\n",
    "            activation='relu',\n",
    "            solver='lbfgs',\n",
    "            alpha=k,\n",
    "            random_state=z,\n",
    "            max_iter=1000)\n",
    "    \n",
    "            reg_1.fit(X_train, y_train)\n",
    "        \n",
    "            armazenando_score_teste = reg_1.score(X_test, y_test)\n",
    "        \n",
    "            quantidade_arq_testadas += 1\n",
    "                \n",
    "            ultimo_neuronio_camada_1 = i # para saber onde parou, caso precisa interromper a execução\n",
    "            \n",
    "            ultimo_alpha = k # para saber onde parou, caso precisa interromper a execução\n",
    "            \n",
    "            ultimo_random_state = z # para saber onde parou, caso precisa interromper a execução\n",
    "                \n",
    "            print('Cam 1: %.i' %i, 'Random State: %.i' %z, 'Quantidade_arq_testadas: %.i' %quantidade_arq_testadas, 'R² treino: %.2f' %(reg_1.score(X_train, y_train).round(2)*100), 'R² teste: %.2f' %(armazenando_score_teste*100))\n",
    "                \n",
    "            if armazenando_score_teste > armazenando_score_teste_max: # Esse if é utilizado para salvar apenas o melhor valor de Escore no teste e assim otimizar o algoritmo\n",
    "                armazenando_score_teste_max = armazenando_score_teste\n",
    "                mse_test = mean_squared_error(y_test, reg_1.predict(X_test))\n",
    "                mae_test = mean_absolute_error(y_test, reg_1.predict(X_test))\n",
    "                random_state = z\n",
    "                neuronios_camada_1 = i\n",
    "                alpha = k\n",
    "            \n",
    "            fim = time.time() \n",
    "            tempo_total = fim - inicio # calcula o tempo de execução em segundos\n",
    "\n",
    "    \n",
    "    \n",
    "print('Tempo de execução: %.2f' %tempo_total)"
   ]
  },
  {
   "cell_type": "markdown",
   "metadata": {},
   "source": [
    "### Apresentado o melhor resultado"
   ]
  },
  {
   "cell_type": "code",
   "execution_count": null,
   "metadata": {},
   "outputs": [],
   "source": [
    "print('Taxa de acerto do teste: %.2f' %(armazenando_score_teste_max*100))\n",
    "print('Erro Quadrático Médio do teste: %.3f' %mse_test)\n",
    "print('Erro Médio Absoluto do teste: %.3f' %mae_test)"
   ]
  },
  {
   "cell_type": "markdown",
   "metadata": {},
   "source": [
    "### Salvando os resultados em arquivo TXT"
   ]
  },
  {
   "cell_type": "code",
   "execution_count": null,
   "metadata": {},
   "outputs": [],
   "source": [
    "np.savetxt('resultados_std_1_camada_relu_Operacoes_remocoes_alpha_0.003_0.01_0.03_0.3_0.5.txt',\n",
    "           np.c_[armazenando_score_teste_max,\n",
    "                mse_test,\n",
    "                mae_test,\n",
    "                random_state,\n",
    "                neuronios_camada_1,\n",
    "                alpha,\n",
    "                tempo_total,\n",
    "                quantidade_arq_testadas],\n",
    "           fmt='%.4f',\n",
    "           comments='',           \n",
    "           header='#armazenando_score_teste_max #mse_test #mae_test #random_state #neuronios_camada_1 #alpha #tempo_total #quantidade_arq_testadas',)"
   ]
  },
  {
   "cell_type": "markdown",
   "metadata": {},
   "source": [
    "# Testando 2 camadas"
   ]
  },
  {
   "cell_type": "markdown",
   "metadata": {},
   "source": [
    "Neurônios na 1ª camada oculta: 1 a 100<br>\n",
    "Neurônios na 2ª camada oculta: 1 a 100<br>\n",
    "Função de ativação: Linear Retificada (ReLU)<br>\n",
    "Solver: lbfgs<br>\n",
    "Alpha: 0.01, 0.1<br>\n",
    "Nº máx. de iterações: 1.000<br>\n",
    "Random state: 0 a 10 (inicialização de pesos)<br>"
   ]
  },
  {
   "cell_type": "code",
   "execution_count": null,
   "metadata": {},
   "outputs": [],
   "source": [
    "# Nesta célula são feitas 4 iterações simultâneas:\n",
    "# i) neurônios na 1ª camada oculta;\n",
    "# ii) neurônios na 2ª camada oculta;\n",
    "# iii) alpha;\n",
    "# iv) random state.\n",
    "armazenando_score_teste = 0\n",
    "\n",
    "armazenando_score_teste_max = 0\n",
    "\n",
    "# Arquitetura da rede\n",
    "inicio = time.time()\n",
    "\n",
    "alpha = []\n",
    "\n",
    "random_state = []\n",
    "\n",
    "quantidade_arq_testadas = 0\n",
    "\n",
    "for i in np.arange(1, 101):  # Iteração entre 1 a 100 neurônios em uma camada oculta\n",
    "    for k in np.arange(1, 101):  # Iteração entre 1 a 100 neurônios na segunda camada oculta\n",
    "        for j in [0.01, 0.1]:\n",
    "            for z in np.arange(0, 10):\n",
    "                reg_2 = MLPRegressor(\n",
    "                hidden_layer_sizes=(i, k),\n",
    "                activation='relu',\n",
    "                solver='lbfgs',\n",
    "                alpha=j,\n",
    "                random_state=z,\n",
    "                max_iter=1000)\n",
    "        \n",
    "                reg_2.fit(X_train, y_train)\n",
    "            \n",
    "                armazenando_score_teste = reg_2.score(X_test, y_test)\n",
    "        \n",
    "                quantidade_arq_testadas += 1\n",
    "                \n",
    "                ultimo_neuronio_camada_1 = i\n",
    "                \n",
    "                ultimo_neuronio_camada_2 = k\n",
    "                \n",
    "                ultimo_alpha = j\n",
    "                \n",
    "                ultimo_random_state = z\n",
    "                \n",
    "                print('Cam 1: %.i' %i, 'Cam 2: %.i' %k, 'Alpha: %.2f' %j, 'Random State: %.i' %z,'Quantidade_arq_testadas: %.i' %quantidade_arq_testadas, 'R² treino: %.2f' %(reg_1.score(X_train, y_train).round(2)*100), 'R² teste: %.2f' %(armazenando_score_teste*100))\n",
    "                \n",
    "                if armazenando_score_teste > armazenando_score_teste_max: # Esse if é utilizado para salvar apenas o melhor valor de Escore no teste e assim otimizar o algoritmo\n",
    "                    armazenando_score_teste_max = armazenando_score_teste\n",
    "                    mse_test = mean_squared_error(y_test, reg_2.predict(X_test))\n",
    "                    mae_test = mean_absolute_error(y_test, reg_2.predict(X_test))\n",
    "                    random_state = z\n",
    "                    neuronios_camada_1 = i\n",
    "                    neuronios_camada_2 = k\n",
    "                    alpha = j\n",
    "                    random_state = z\n",
    "                \n",
    "                fim = time.time()\n",
    "                \n",
    "                tempo_total = fim - inicio\n",
    "        \n",
    "        \n",
    "print('Tempo de execução: %.2f s' %tempo_total)"
   ]
  },
  {
   "cell_type": "markdown",
   "metadata": {},
   "source": [
    "### Apresentando o melhor resultado"
   ]
  },
  {
   "cell_type": "code",
   "execution_count": null,
   "metadata": {},
   "outputs": [],
   "source": [
    "print('Taxa de acerto do teste: %.2f' %(armazenando_score_teste_max*100))\n",
    "print('Erro Quadrático Médio do teste: %.3f' %mse_test)\n",
    "print('Erro Médio Absoluto do teste: %.3f' %mae_test)"
   ]
  },
  {
   "cell_type": "markdown",
   "metadata": {},
   "source": [
    "### Salvando os resultados em arquivo TXT"
   ]
  },
  {
   "cell_type": "code",
   "execution_count": null,
   "metadata": {},
   "outputs": [],
   "source": [
    "np.savetxt('resultados_std_2_camada_relu_Operacoes_remocoes_alpha.txt', \n",
    "           np.c_[armazenando_score_teste_max,\n",
    "                 mse_test,\n",
    "                 mae_test,\n",
    "                 random_state,\n",
    "                 neuronios_camada_1,\n",
    "                 neuronios_camada_2,\n",
    "                 alpha,\n",
    "                 random_state,\n",
    "                 tempo_total,\n",
    "                 quantidade_arq_testadas],\n",
    "           fmt='%.4f',\n",
    "           comments='2_camadas_de_1_a_100_neuronios_e_alpha_0.01_e_0.1_e_random_state_0_10 ',\n",
    "          header='#armazenando_score_teste_max #mse_test #mae_test #random_state #neuronios_camada_1 #neuronios_camada_2 #alpha #random_state #tempo_total #quantidade_arq_testadas',)"
   ]
  },
  {
   "cell_type": "markdown",
   "metadata": {},
   "source": [
    "# Testando 1 camada"
   ]
  },
  {
   "cell_type": "markdown",
   "metadata": {},
   "source": [
    "Neurônios na 1ª camada oculta: 1 a 100<br>\n",
    "Função de ativação: Tangente Hiperbólica (Tanh)<br>\n",
    "Solver: LBFGS<br>\n",
    "Alpha: 0.1<br>\n",
    "Nº máx. de iterações: 1.000<br>\n",
    "Random state: 0 a 10 (inicialização de pesos)<br>"
   ]
  },
  {
   "cell_type": "code",
   "execution_count": null,
   "metadata": {},
   "outputs": [],
   "source": [
    "# Nesta célula são feitas 2 iterações simultâneas:\n",
    "# i) neurônios na 1ª camada oculta;\n",
    "# ii) random state.\n",
    "armazenando_score_teste = 0\n",
    "\n",
    "armazenando_score_teste_max = 0\n",
    "\n",
    "inicio = time.time()\n",
    "\n",
    "quantidade_arq_testadas = 0\n",
    "\n",
    "for i in np.arange(1, 101):  # Iteração entre 1 a 100 neurônios em uma camada oculta\n",
    "    for k in np.arange(0, 11):\n",
    "        reg_1 = MLPRegressor(\n",
    "        hidden_layer_sizes=(i,k),\n",
    "        activation='tanh',\n",
    "        solver='lbfgs',\n",
    "        alpha=0.1,\n",
    "        random_state=k,\n",
    "        max_iter=1000)\n",
    "    \n",
    "        reg_1.fit(X_train, y_train)\n",
    "    \n",
    "        armazenando_score_teste = reg_1.score(X_test, y_test)\n",
    "        \n",
    "        quantidade_arq_testadas += 1\n",
    "                \n",
    "        ultimo_neuronio_camada_1 = i # para saber onde parou, caso precisa interromper a execução\n",
    "            \n",
    "        ultimo_random_state = z # para saber onde parou, caso precisa interromper a execução\n",
    "                \n",
    "        print('Cam 1: %.i' %i, 'Random State: %.i' %k, 'Quantidade_arq_testadas: %.i' %quantidade_arq_testadas, 'R² treino: %.2f' %(reg_1.score(X_train, y_train).round(2)*100), 'R² teste: %.2f' %(armazenando_score_teste*100))\n",
    "                \n",
    "        if armazenando_score_teste > armazenando_score_teste_max: # Esse if é utilizado para salvar apenas o melhor valor de Escore no teste e assim otimizar o algoritmo\n",
    "            armazenando_score_teste_max = armazenando_score_teste\n",
    "            mse_test = mean_squared_error(y_test, reg_1.predict(X_test))\n",
    "            mae_test = mean_absolute_error(y_test, reg_1.predict(X_test))\n",
    "            random_state = k\n",
    "            neuronios_camada_1 = i\n",
    "            \n",
    "        fim = time.time() \n",
    "        tempo_total = fim - inicio # calcula o tempo de execução em segundos\n",
    "                   \n",
    "print('Tempo de execução: %.2f' %tempo_total)"
   ]
  },
  {
   "cell_type": "markdown",
   "metadata": {},
   "source": [
    "### Apresentando os melhores resultados"
   ]
  },
  {
   "cell_type": "code",
   "execution_count": null,
   "metadata": {},
   "outputs": [],
   "source": [
    "print('Taxa de acerto do teste: %.2f' %(armazenando_score_teste_max*100))\n",
    "print('Erro Quadrático Médio do teste: %.3f' %mse_test)\n",
    "print('Erro Médio Absoluto do teste: %.3f' %mae_test)"
   ]
  },
  {
   "cell_type": "markdown",
   "metadata": {},
   "source": [
    "### Salvando os resultados em arquivo TXT"
   ]
  },
  {
   "cell_type": "code",
   "execution_count": null,
   "metadata": {},
   "outputs": [],
   "source": [
    "np.savetxt('resultados_std_1_camada_tanh_Operacoes_remocoes.txt',\n",
    "           np.c_[armazenando_score_teste_max,\n",
    "                mse_test,\n",
    "                mae_test,\n",
    "                random_state,\n",
    "                neuronios_camada_1,\n",
    "                alpha,\n",
    "                tempo_total,\n",
    "                quantidade_arq_testadas],\n",
    "           fmt='%.4f',\n",
    "           comments='',           \n",
    "           header='#armazenando_score_teste_max #mse_test #mae_test #random_state #neuronios_camada_1 #alpha #tempo_total #quantidade_arq_testadas',)"
   ]
  },
  {
   "cell_type": "markdown",
   "metadata": {},
   "source": [
    "# Testando 2 camadas"
   ]
  },
  {
   "cell_type": "markdown",
   "metadata": {},
   "source": [
    "Neurônios na 1ª camada oculta: 1 a 100<br>\n",
    "Função de ativação: Tangente Hiperbólica (Tanh)<br>\n",
    "Solver: LBFGS<br>\n",
    "Alpha: 0.1<br>\n",
    "Nº máx. de iterações: 1.000<br>\n",
    "Random state: 0 (inicialização de pesos)<br>"
   ]
  },
  {
   "cell_type": "code",
   "execution_count": null,
   "metadata": {},
   "outputs": [],
   "source": [
    "# Nesta célula são feitas 2 iterações simultâneas:\n",
    "# i) neurônios na 1ª camada oculta;\n",
    "# ii) neurônios na 2ª camada oculta.\n",
    "armazenando_score_teste = 0\n",
    "\n",
    "armazenando_score_teste_max = 0\n",
    "\n",
    "inicio = time.time()\n",
    "\n",
    "quantidade_arq_testadas = 0\n",
    "\n",
    "for i in np.arange(1, 101):  # Iteração entre 1 a 100 neurônios na primeira camada oculta\n",
    "    for k in np.arange(1, 101):  # Iteração entre 1 a 100 neurônios na segunda camada oculta\n",
    "        reg_2 = MLPRegressor(\n",
    "        hidden_layer_sizes=(i, k),\n",
    "        activation='tanh',\n",
    "        solver='lbfgs',\n",
    "        alpha=0.1,\n",
    "        random_state=0,\n",
    "        max_iter=1000)\n",
    "        \n",
    "        reg_2.fit(X_train, y_train)\n",
    "        \n",
    "        armazenando_score_teste = reg_2.score(X_test, y_test)\n",
    "        \n",
    "        quantidade_arq_testadas += 1\n",
    "                \n",
    "        ultimo_neuronio_camada_1 = i\n",
    "                \n",
    "        ultimo_neuronio_camada_2 = k\n",
    "                \n",
    "        print('Cam 1: %.i' %i, 'Cam 2: %.i' %k, 'Quantidade_arq_testadas: %.i' %quantidade_arq_testadas, 'R² treino: %.2f' %(reg_2.score(X_train, y_train).round(2)*100), 'R² teste: %.2f' %(armazenando_score_teste*100))\n",
    "                \n",
    "        if armazenando_score_teste > armazenando_score_teste_max: # Esse if é utilizado para salvar apenas o melhor valor de Escore no teste e assim otimizar o algoritmo\n",
    "            armazenando_score_teste_max = armazenando_score_teste\n",
    "            mse_test = mean_squared_error(y_test, reg_2.predict(X_test))\n",
    "            mae_test = mean_absolute_error(y_test, reg_2.predict(X_test))\n",
    "            neuronios_camada_1 = i\n",
    "            neuronios_camada_2 = k\n",
    "                \n",
    "            fim = time.time()\n",
    "                \n",
    "            tempo_total = fim - inicio\n",
    "        \n",
    "print('Tempo de execução: %.2f' %tempo_total)"
   ]
  },
  {
   "cell_type": "markdown",
   "metadata": {},
   "source": [
    "### Apresentando os melhores resultados"
   ]
  },
  {
   "cell_type": "code",
   "execution_count": null,
   "metadata": {},
   "outputs": [],
   "source": [
    "print('Taxa de acerto do teste: %.2f' %(armazenando_score_teste_max*100))\n",
    "print('Erro Quadrático Médio do teste: %.3f' %mse_test)\n",
    "print('Erro Médio Absoluto do teste: %.3f' %mae_test)"
   ]
  },
  {
   "cell_type": "markdown",
   "metadata": {},
   "source": [
    "### Salvando os resultados em arquivo TXT"
   ]
  },
  {
   "cell_type": "code",
   "execution_count": null,
   "metadata": {},
   "outputs": [],
   "source": [
    "np.savetxt('resultados_std_2_camada_tanh_Operacoes_remocoes.txt',\n",
    "           np.c_[armazenando_score_teste_max,\n",
    "                 mse_test,\n",
    "                 mae_test,\n",
    "                 neuronios_camada_1,\n",
    "                 neuronios_camada_2,\n",
    "                 tempo_total,\n",
    "                 quantidade_arq_testadas],\n",
    "           fmt='%.4f',\n",
    "           comments='2_camadas_de_1_a_100_neuronios_e_alpha_0.01_e_0.1_e_random_state_0_10 ',\n",
    "          header='#armazenando_score_teste_max #mse_test #mae_test #neuronios_camada_1 #neuronios_camada_2 #tempo_total #quantidade_arq_testadas',)"
   ]
  },
  {
   "cell_type": "markdown",
   "metadata": {},
   "source": [
    "# Testando o pré-processamento MinMaxScaler\n",
    "\\begin{equation}\n",
    " z = \\frac{(x - x_\\textit{min}) \\times (d_2 - d_1)}{(x_\\textit{max} - x_\\textit{min})} + d_1\n",
    "\\end{equation}\n",
    "$z$: valor normalizado;\n",
    "\n",
    "$x$: valor a ser normalizado;\n",
    "\n",
    "$x_{max}$ e $x_{min}$: variação do valor de $x$;\n",
    "\n",
    "$d_1$ e $d_2$: limite ao qual o valor $x$ será reduzido.\n",
    "\n",
    "Fonte: https://scikit-learn.org/stable/modules/generated/sklearn.preprocessing.MinMaxScaler.html"
   ]
  },
  {
   "cell_type": "markdown",
   "metadata": {},
   "source": [
    "### Dividindo o cojunto de dados em 90% Treinamento e 10% Teste"
   ]
  },
  {
   "cell_type": "code",
   "execution_count": null,
   "metadata": {},
   "outputs": [],
   "source": [
    "X_train_mms, X_test_mms, y_train_mms, y_test_mms = train_test_split(X, Y, test_size=0.1, random_state=0)"
   ]
  },
  {
   "cell_type": "markdown",
   "metadata": {},
   "source": [
    "### Pré-processamento dos dados\n",
    "**NOTA: Os dados de saída (coeficiente de atrito) foram normalizados**"
   ]
  },
  {
   "cell_type": "code",
   "execution_count": null,
   "metadata": {},
   "outputs": [],
   "source": [
    "train = pd.concat([pd.DataFrame(X_train_mms, columns=X.columns), pd.Series(y_train_mms)], axis=1)\n",
    "mms_scaler = MinMaxScaler()\n",
    "mms_scaler.fit(train)\n",
    "train = mms_scaler.transform(train)\n",
    "X_train_mms, y_train_mms = pd.DataFrame(train[:, :6], columns=X.columns), pd.Series(train[:, 6])\n",
    "\n",
    "test = pd.concat([pd.DataFrame(X_test_mms, columns=X.columns), pd.Series(y_test_mms)], axis=1)\n",
    "test = mms_scaler.transform(test)\n",
    "X_test_mms, y_test_mms = pd.DataFrame(test[:, :6], columns=X.columns), pd.Series(test[:, 6])"
   ]
  },
  {
   "cell_type": "markdown",
   "metadata": {},
   "source": [
    "### Estatítisca descritiva do conjunto de entrada do treinamento"
   ]
  },
  {
   "cell_type": "code",
   "execution_count": null,
   "metadata": {
    "scrolled": false
   },
   "outputs": [],
   "source": [
    "X_train_mms.describe().round(2)"
   ]
  },
  {
   "cell_type": "markdown",
   "metadata": {},
   "source": [
    "### Estatítisca descritiva do conjunto de entrada do teste"
   ]
  },
  {
   "cell_type": "code",
   "execution_count": null,
   "metadata": {},
   "outputs": [],
   "source": [
    "X_test_mms.describe().round(2)"
   ]
  },
  {
   "cell_type": "markdown",
   "metadata": {},
   "source": [
    "## Testando 1 camada"
   ]
  },
  {
   "cell_type": "markdown",
   "metadata": {},
   "source": [
    "Neurônios na 1ª camada oculta: 1 a 100<br>\n",
    "Função de ativação: Tangente Hiperbólica (Tanh)<br>\n",
    "Solver: LBFGS<br>\n",
    "Alpha: 0.1<br>\n",
    "Nº máx. de iterações: 1.000<br>\n",
    "Random state: 0 a 9 (inicialização de pesos)<br>"
   ]
  },
  {
   "cell_type": "code",
   "execution_count": null,
   "metadata": {},
   "outputs": [],
   "source": [
    "# Nesta célula são feitas 2 iterações simultâneas:\n",
    "# i) neurônios na 1ª camada oculta;\n",
    "# ii) random state.\n",
    "armazenando_score_teste = 0\n",
    "\n",
    "armazenando_score_teste_max = 0\n",
    "\n",
    "inicio = time.time()\n",
    "\n",
    "quantidade_arq_testadas = 0\n",
    "\n",
    "for i in np.arange(1, 101):\n",
    "    for z in np.arange(0, 10):\n",
    "        reg_1 = MLPRegressor(\n",
    "        hidden_layer_sizes=(i,),\n",
    "        activation='relu',\n",
    "        solver='lbfgs',\n",
    "        alpha=0.1,\n",
    "        max_iter=1000,\n",
    "        random_state=z,)\n",
    "    \n",
    "        reg_1.fit(X_train_mms, y_train_mms)\n",
    "            \n",
    "        armazenando_score_teste = reg_1.score(X_test_mms, y_test_mms)\n",
    "        \n",
    "        quantidade_arq_testadas += 1\n",
    "                \n",
    "        ultimo_neuronio_camada_1 = i # para saber onde parou, caso precisa interromper a execução\n",
    "            \n",
    "        ultimo_random_state = z # para saber onde parou, caso precisa interromper a execução\n",
    "                \n",
    "        print('Cam 1: %.i' %i, 'Random State: %.i' %z, 'Quantidade_arq_testadas: %.i' %quantidade_arq_testadas, 'R² treino: %.2f' %(reg_1.score(X_train_mms, y_train_mms).round(2)*100), 'R² teste: %.2f' %(armazenando_score_teste*100))\n",
    "                \n",
    "        if armazenando_score_teste > armazenando_score_teste_max: # Esse if é utilizado para salvar apenas o melhor valor de Escore no teste e assim otimizar o algoritmo\n",
    "            armazenando_score_teste_max = armazenando_score_teste\n",
    "            mse_test = mean_squared_error(y_test_mms, reg_1.predict(X_test_mms))\n",
    "            mae_test = mean_absolute_error(y_test_mms, reg_1.predict(X_test_mms))\n",
    "            random_state = z\n",
    "            neuronios_camada_1 = i\n",
    "        \n",
    "        fim = time.time()\n",
    "        \n",
    "        tempo_total = fim - inicio\n",
    "print('Tempo de execução: %.2f' %tempo_total)"
   ]
  },
  {
   "cell_type": "markdown",
   "metadata": {},
   "source": [
    "### Apresentando os melhores resultados"
   ]
  },
  {
   "cell_type": "code",
   "execution_count": null,
   "metadata": {},
   "outputs": [],
   "source": [
    "print('Taxa de acerto do teste: %.2f' %(armazenando_score_teste_max*100))\n",
    "print('Erro Quadrático Médio do teste: %.3f' %mse_test)\n",
    "print('Erro Médio Absoluto do teste: %.3f' %mae_test)"
   ]
  },
  {
   "cell_type": "markdown",
   "metadata": {},
   "source": [
    "### Salvando os resultados em arquivo TXT"
   ]
  },
  {
   "cell_type": "code",
   "execution_count": null,
   "metadata": {},
   "outputs": [],
   "source": [
    "np.savetxt('resultados_mms_1_camada_tanh.txt',\n",
    "           np.c_[armazenando_score_teste_max,\n",
    "                mse_test,\n",
    "                mae_test,\n",
    "                random_state,\n",
    "                neuronios_camada_1,\n",
    "                tempo_total,\n",
    "                quantidade_arq_testadas],\n",
    "           fmt='%.4f',\n",
    "           comments='',           \n",
    "           header='#armazenando_score_teste_max #mse_test #mae_test #random_state #neuronios_camada_1 #tempo_total #quantidade_arq_testadas',)"
   ]
  },
  {
   "cell_type": "markdown",
   "metadata": {},
   "source": [
    "## Testando 2 camadas"
   ]
  },
  {
   "cell_type": "markdown",
   "metadata": {},
   "source": [
    "Neurônios na 1ª camada oculta: 1 a 100<br>\n",
    "Neurônios na 2ª camada oculta: 1 a 100<br>\n",
    "Função de ativação: Tangente Hiperbólica (Tanh)<br>\n",
    "Solver: LBFGS<br>\n",
    "Alpha: 0.1<br>\n",
    "Nº máx. de iterações: 1.000<br>\n",
    "Random state: 0(inicialização de pesos)<br>"
   ]
  },
  {
   "cell_type": "code",
   "execution_count": null,
   "metadata": {},
   "outputs": [],
   "source": [
    "# Nesta célula são feitas 2 iterações simultâneas:\n",
    "# i) neurônios na 1ª camada oculta;\n",
    "# ii) neurônios na 2ª camada oculta.\n",
    "\n",
    "armazenando_score_teste = 0\n",
    "\n",
    "armazenando_score_teste_max = 0\n",
    "\n",
    "inicio = time.time()\n",
    "\n",
    "quantidade_arq_testadas = 0\n",
    "\n",
    "for i in np.arange(1, 101):\n",
    "    for k in np.arange(1, 101):\n",
    "        reg_2 = MLPRegressor(\n",
    "        hidden_layer_sizes=(i,k),\n",
    "        activation='tanh',\n",
    "        solver='lbfgs',\n",
    "        alpha=0.1,\n",
    "        max_iter=1000,\n",
    "        random_state=0,)\n",
    "        \n",
    "        reg_2.fit(X_train_mms, y_train_mms)\n",
    "        \n",
    "        armazenando_score_teste = reg_2.score(X_test_mms, y_test_mms)\n",
    "        \n",
    "        quantidade_arq_testadas += 1\n",
    "                \n",
    "        ultimo_neuronio_camada_1 = i\n",
    "                \n",
    "        ultimo_neuronio_camada_2 = k\n",
    "                \n",
    "        print('Cam 1: %.i' %i, 'Cam 2: %.i' %k, 'Quantidade_arq_testadas: %.i' %quantidade_arq_testadas, 'R² treino: %.2f' %(reg_2.score(X_train_mms, y_train_mms).round(2)*100), 'R² teste: %.2f' %(armazenando_score_teste*100))\n",
    "                \n",
    "        if armazenando_score_teste > armazenando_score_teste_max: # Esse if é utilizado para salvar apenas o melhor valor de Escore no teste e assim otimizar o algoritmo\n",
    "            armazenando_score_teste_max = armazenando_score_teste\n",
    "            mse_test = mean_squared_error(y_test_mms, reg_2.predict(X_test_mms))\n",
    "            mae_test = mean_absolute_error(y_test_mms, reg_2.predict(X_test_mms))\n",
    "            neuronios_camada_1 = i\n",
    "            neuronios_camada_2 = k\n",
    "                \n",
    "        fim = time.time()\n",
    "                \n",
    "        tempo_total = fim - inicio\n",
    "\n",
    "print('Tempo de execução: %.2f' %tempo_total)"
   ]
  },
  {
   "cell_type": "markdown",
   "metadata": {},
   "source": [
    "### Apresentando os melhores resultados"
   ]
  },
  {
   "cell_type": "code",
   "execution_count": null,
   "metadata": {},
   "outputs": [],
   "source": [
    "print('Taxa de acerto do teste: %.2f' %(armazenando_score_teste_max*100))\n",
    "print('Erro Quadrático Médio do teste: %.3f' %mse_test)\n",
    "print('Erro Médio Absoluto do teste: %.3f' %mae_test)"
   ]
  },
  {
   "cell_type": "markdown",
   "metadata": {},
   "source": [
    "### Salvando os resultados em arquivo TXT"
   ]
  },
  {
   "cell_type": "code",
   "execution_count": null,
   "metadata": {},
   "outputs": [],
   "source": [
    "#np.savetxt('resultados_mms_2_camadas_tanh.txt',\n",
    "np.savetxt('teste.txt',\n",
    "           np.c_[armazenando_score_teste_max,\n",
    "                mse_test,\n",
    "                mae_test,\n",
    "                random_state,\n",
    "                neuronios_camada_1,\n",
    "                neuronios_camada_2, \n",
    "                tempo_total,\n",
    "                quantidade_arq_testadas],\n",
    "           fmt='%.4f',\n",
    "           comments='',           \n",
    "           header='#armazenando_score_teste_max #mse_test #mae_test #random_state #neuronios_camada_1 #neuronios_camada_2 #tempo_total #quantidade_arq_testadas',)"
   ]
  },
  {
   "cell_type": "markdown",
   "metadata": {},
   "source": [
    "# Testando 1 camada"
   ]
  },
  {
   "cell_type": "markdown",
   "metadata": {},
   "source": [
    "Neurônios na 1ª camada oculta: 1 a 100<br>\n",
    "Função de ativação: Linear Retificada (ReLU)<br>\n",
    "Solver: LBFGS<br>\n",
    "Alpha: 0.1<br>\n",
    "Nº máx. de iterações: 1.000<br>\n",
    "Random state: 0 a 9(inicialização de pesos)<br>"
   ]
  },
  {
   "cell_type": "code",
   "execution_count": null,
   "metadata": {},
   "outputs": [],
   "source": [
    "# Nesta célula são feitas 2 iterações simultâneas:\n",
    "# i) neurônios na 1ª camada oculta;\n",
    "# ii) random state.\n",
    "\n",
    "armazenando_score_teste = 0\n",
    "\n",
    "armazenando_score_teste_max = 0\n",
    "\n",
    "inicio = time.time()\n",
    "\n",
    "quantidade_arq_testadas = 0\n",
    "\n",
    "for i in np.arange(1, 101):\n",
    "    for z in np.arange(0, 10):\n",
    "        reg_1 = MLPRegressor(\n",
    "        hidden_layer_sizes=(i,),\n",
    "        activation='relu',\n",
    "        solver='lbfgs',\n",
    "        alpha=0.1,\n",
    "        max_iter=1000,\n",
    "        random_state=z,)\n",
    "    \n",
    "        reg_1.fit(X_train_mms, y_train_mms)\n",
    "            \n",
    "        armazenando_score_teste = reg_1.score(X_test_mms, y_test_mms)\n",
    "        \n",
    "        quantidade_arq_testadas += 1\n",
    "                \n",
    "        ultimo_neuronio_camada_1 = i # para saber onde parou, caso precisa interromper a execução\n",
    "            \n",
    "        ultimo_random_state = z # para saber onde parou, caso precisa interromper a execução\n",
    "                \n",
    "        print('Cam 1: %.i' %i, 'Random State: %.i' %z, 'Quantidade_arq_testadas: %.i' %quantidade_arq_testadas, 'R² treino: %.2f' %(reg_1.score(X_train_mms, y_train_mms).round(2)*100), 'R² teste: %.2f' %(armazenando_score_teste*100))\n",
    "                \n",
    "        if armazenando_score_teste > armazenando_score_teste_max: # Esse if é utilizado para salvar apenas o melhor valor de Escore no teste e assim otimizar o algoritmo\n",
    "            armazenando_score_teste_max = armazenando_score_teste\n",
    "            mse_test = mean_squared_error(y_test_mms, reg_1.predict(X_test_mms))\n",
    "            mae_test = mean_absolute_error(y_test_mms, reg_1.predict(X_test_mms))\n",
    "            random_state = z\n",
    "            neuronios_camada_1 = i\n",
    "        \n",
    "        fim = time.time()\n",
    "        \n",
    "        tempo_total = fim - inicio\n",
    "print('Tempo de execução: %.2f' %tempo_total)"
   ]
  },
  {
   "cell_type": "markdown",
   "metadata": {},
   "source": [
    "### Apresentando os melhores resultados"
   ]
  },
  {
   "cell_type": "code",
   "execution_count": null,
   "metadata": {},
   "outputs": [],
   "source": [
    "print('Taxa de acerto do teste: %.2f' %(armazenando_score_teste_max*100))\n",
    "print('Erro Quadrático Médio do teste: %.3f' %mse_test)\n",
    "print('Erro Médio Absoluto do teste: %.3f' %mae_test)"
   ]
  },
  {
   "cell_type": "markdown",
   "metadata": {},
   "source": [
    "### Salvando os resultados em arquivo TXT"
   ]
  },
  {
   "cell_type": "code",
   "execution_count": null,
   "metadata": {},
   "outputs": [],
   "source": [
    "np.savetxt('resultados_mms_1_camada_relu.txt',\n",
    "           np.c_[armazenando_score_teste_max,\n",
    "                mse_test,\n",
    "                mae_test,\n",
    "                random_state,\n",
    "                neuronios_camada_1,\n",
    "                tempo_total,\n",
    "                quantidade_arq_testadas],\n",
    "           fmt='%.4f',\n",
    "           comments='',           \n",
    "           header='#armazenando_score_teste_max #mse_test #mae_test #random_state #neuronios_camada_1 #tempo_total #quantidade_arq_testadas',)"
   ]
  },
  {
   "cell_type": "markdown",
   "metadata": {},
   "source": [
    "# Testando 2 camadas"
   ]
  },
  {
   "cell_type": "markdown",
   "metadata": {},
   "source": [
    "Neurônios na 1ª camada oculta: 1 a 100<br>\n",
    "Neurônios na 2ª camada oculta: 1 a 100<br>\n",
    "Função de ativação: Linear Retificada (ReLU)<br>\n",
    "Solver: LBFGS<br>\n",
    "Alpha: 0.01 e 0.3<br>\n",
    "Nº máx. de iterações: 1.000<br>\n",
    "Random state: 0 a 9(inicialização de pesos)<br>"
   ]
  },
  {
   "cell_type": "code",
   "execution_count": null,
   "metadata": {},
   "outputs": [],
   "source": [
    "# Nesta célula são feitas 3 iterações simultâneas:\n",
    "# i) neurônios na 1ª camada oculta;\n",
    "# ii) neurônios na 2ª camada oculta;\n",
    "# ii) alpha.\n",
    "\n",
    "armazenando_score_teste = 0\n",
    "\n",
    "armazenando_score_teste_max = 0\n",
    "\n",
    "inicio = time.time()\n",
    "\n",
    "quantidade_arq_testadas = 0\n",
    "\n",
    "for i in np.arange(1, 101):\n",
    "    for k in np.arange(1, 101):\n",
    "        for z in [0.01, 0.3]:\n",
    "            reg_2 = MLPRegressor(\n",
    "            hidden_layer_sizes=(i,k),\n",
    "            activation='relu',\n",
    "            solver='lbfgs',\n",
    "            alpha=z,\n",
    "            max_iter=1000,\n",
    "            random_state=0,)\n",
    "    \n",
    "            reg_2.fit(X_train_mms, y_train_mms)\n",
    "        \n",
    "            armazenando_score_teste = reg_2.score(X_test_mms, y_test_mms)\n",
    "        \n",
    "            quantidade_arq_testadas += 1\n",
    "                \n",
    "            ultimo_neuronio_camada_1 = i\n",
    "                \n",
    "            ultimo_neuronio_camada_2 = k\n",
    "                \n",
    "            print('Cam 1: %.i' %i, 'Cam 2: %.i' %k, 'Alpha: %.3f' %z, 'Quantidade_arq_testadas: %.i' %quantidade_arq_testadas, 'R² treino: %.2f' %(reg_2.score(X_train_mms, y_train_mms).round(2)*100), 'R² teste: %.2f' %(armazenando_score_teste*100))\n",
    "                \n",
    "            if armazenando_score_teste > armazenando_score_teste_max: # Esse if é utilizado para salvar apenas o melhor valor de Escore no teste e assim otimizar o algoritmo\n",
    "                armazenando_score_teste_max = armazenando_score_teste\n",
    "                mse_test = mean_squared_error(y_test_mms, reg_2.predict(X_test_mms))\n",
    "                mae_test = mean_absolute_error(y_test_mms, reg_2.predict(X_test_mms))\n",
    "                neuronios_camada_1 = i\n",
    "                neuronios_camada_2 = k\n",
    "                alpha = z\n",
    "                \n",
    "        fim = time.time()\n",
    "                \n",
    "        tempo_total = fim - inicio\n",
    "\n",
    "print('Tempo de execução: %.2f' %tempo_total)"
   ]
  },
  {
   "cell_type": "markdown",
   "metadata": {},
   "source": [
    "### Apresentando os melhores resultados"
   ]
  },
  {
   "cell_type": "code",
   "execution_count": null,
   "metadata": {},
   "outputs": [],
   "source": [
    "print('Taxa de acerto do teste: %.2f' %(armazenando_score_teste_max*100))\n",
    "print('Erro Quadrático Médio do teste: %.3f' %mse_test)\n",
    "print('Erro Médio Absoluto do teste: %.3f' %mae_test)"
   ]
  },
  {
   "cell_type": "markdown",
   "metadata": {},
   "source": [
    "### Salvando os resultados em arquivo TXT"
   ]
  },
  {
   "cell_type": "code",
   "execution_count": null,
   "metadata": {},
   "outputs": [],
   "source": [
    "np.savetxt('resultados_mms_2_camada_relu_alphas.txt',\n",
    "           np.c_[armazenando_score_teste_max,\n",
    "                mse_test,\n",
    "                mae_test,\n",
    "                neuronios_camada_1,\n",
    "                neuronios_camada_2,\n",
    "                alpha,\n",
    "                tempo_total,\n",
    "                quantidade_arq_testadas],\n",
    "           fmt='%.4f',\n",
    "           comments='',           \n",
    "           header='#armazenando_score_teste_max #mse_test #mae_test #neuronios_camada_1 #neuronios_camada_2 #alpha #tempo_total #quantidade_arq_testadas',)"
   ]
  },
  {
   "cell_type": "markdown",
   "metadata": {},
   "source": [
    "# Testando o pré-processamento MaxAbsScaler\n",
    "\n",
    "\n",
    "Fonte: https://scikit-learn.org/stable/modules/generated/sklearn.preprocessing.MaxAbsScaler.html#sklearn.preprocessing.MaxAbsScaler"
   ]
  },
  {
   "cell_type": "markdown",
   "metadata": {},
   "source": [
    "### Dividindo o cojunto de dados em 90% Treinamento e 10% Teste"
   ]
  },
  {
   "cell_type": "code",
   "execution_count": null,
   "metadata": {},
   "outputs": [],
   "source": [
    "X_train_mas, X_test_mas, y_train_mas, y_test_mas = train_test_split(X, Y, test_size=0.1, random_state=0)"
   ]
  },
  {
   "cell_type": "markdown",
   "metadata": {},
   "source": [
    "### Pré-processamento dos dados\n",
    "**NOTA: Os dados de saída (coeficiente de atrito) foram normalizados**"
   ]
  },
  {
   "cell_type": "code",
   "execution_count": null,
   "metadata": {},
   "outputs": [],
   "source": [
    "train = pd.concat([pd.DataFrame(X_train_mas, columns=X.columns), pd.Series(y_train_mas)], axis=1)\n",
    "mas_scaler = MaxAbsScaler()\n",
    "mas_scaler.fit(train)\n",
    "train = mas_scaler.transform(train)\n",
    "X_train_mas, y_train_mas = pd.DataFrame(train[:, :6], columns=X.columns), pd.Series(train[:, 6])\n",
    "\n",
    "test = pd.concat([pd.DataFrame(X_test_mas, columns=X.columns), pd.Series(y_test_mas)], axis=1)\n",
    "test = mas_scaler.transform(test)\n",
    "X_test_mas, y_test_mas = pd.DataFrame(test[:, :6], columns=X.columns), pd.Series(test[:, 6])"
   ]
  },
  {
   "cell_type": "markdown",
   "metadata": {},
   "source": [
    "### Estatítisca descritiva do conjunto de entrada do treinamento"
   ]
  },
  {
   "cell_type": "code",
   "execution_count": null,
   "metadata": {
    "scrolled": false
   },
   "outputs": [],
   "source": [
    "X_train_mas.describe().round(2)"
   ]
  },
  {
   "cell_type": "markdown",
   "metadata": {},
   "source": [
    "### Estatítisca descritiva do conjunto de entrada do teste"
   ]
  },
  {
   "cell_type": "code",
   "execution_count": null,
   "metadata": {},
   "outputs": [],
   "source": [
    "X_test_mas.describe().round(2)"
   ]
  },
  {
   "cell_type": "markdown",
   "metadata": {},
   "source": [
    "## Testando 1 camada"
   ]
  },
  {
   "cell_type": "markdown",
   "metadata": {},
   "source": [
    "Neurônios na 1ª camada oculta: 1 a 100<br>\n",
    "Função de ativação: Tangente Hiperbólica (Tanh)<br>\n",
    "Solver: LBFGS<br>\n",
    "Alpha: 0.1<br>\n",
    "Nº máx. de iterações: 1.000<br>\n",
    "Random state: 0 a 9 (inicialização de pesos)<br>"
   ]
  },
  {
   "cell_type": "code",
   "execution_count": null,
   "metadata": {},
   "outputs": [],
   "source": [
    "# Nesta célula são feitas 2 iterações simultâneas:\n",
    "# i) neurônios na 1ª camada oculta;\n",
    "# ii) random state.\n",
    "armazenando_score_teste = 0\n",
    "\n",
    "armazenando_score_teste_max = 0\n",
    "\n",
    "inicio = time.time()\n",
    "\n",
    "quantidade_arq_testadas = 0\n",
    "\n",
    "for i in np.arange(1, 101):\n",
    "    for z in np.arange(0, 10):\n",
    "        reg_1 = MLPRegressor(\n",
    "        hidden_layer_sizes=(i,),\n",
    "        activation='relu',\n",
    "        solver='lbfgs',\n",
    "        alpha=0.1,\n",
    "        max_iter=1000,\n",
    "        random_state=z,)\n",
    "    \n",
    "        reg_1.fit(X_train_mas, y_train_mas)\n",
    "            \n",
    "        armazenando_score_teste = reg_1.score(X_test_mas, y_test_mas)\n",
    "        \n",
    "        quantidade_arq_testadas += 1\n",
    "                \n",
    "        ultimo_neuronio_camada_1 = i # para saber onde parou, caso precisa interromper a execução\n",
    "            \n",
    "        ultimo_random_state = z # para saber onde parou, caso precisa interromper a execução\n",
    "                \n",
    "        print('Cam 1: %.i' %i, 'Random State: %.i' %z, 'Quantidade_arq_testadas: %.i' %quantidade_arq_testadas, 'R² treino: %.2f' %(reg_1.score(X_train_mas, y_train_mas).round(2)*100), 'R² teste: %.2f' %(armazenando_score_teste*100))\n",
    "                \n",
    "        if armazenando_score_teste > armazenando_score_teste_max: # Esse if é utilizado para salvar apenas o melhor valor de Escore no teste e assim otimizar o algoritmo\n",
    "            armazenando_score_teste_max = armazenando_score_teste\n",
    "            mse_test = mean_squared_error(y_test_mas, reg_1.predict(X_test_mas))\n",
    "            mae_test = mean_absolute_error(y_test_mas, reg_1.predict(X_test_mas))\n",
    "            random_state = z\n",
    "            neuronios_camada_1 = i\n",
    "        \n",
    "        fim = time.time()\n",
    "        \n",
    "        tempo_total = fim - inicio\n",
    "print('Tempo de execução: %.2f' %tempo_total)"
   ]
  },
  {
   "cell_type": "markdown",
   "metadata": {},
   "source": [
    "### Apresentando os melhores resultados"
   ]
  },
  {
   "cell_type": "code",
   "execution_count": null,
   "metadata": {},
   "outputs": [],
   "source": [
    "print('Taxa de acerto do teste: %.2f' %(armazenando_score_teste_max*100))\n",
    "print('Erro Quadrático Médio do teste: %.3f' %mse_test)\n",
    "print('Erro Médio Absoluto do teste: %.3f' %mae_test)"
   ]
  },
  {
   "cell_type": "markdown",
   "metadata": {},
   "source": [
    "### Salvando os resultados em arquivo TXT"
   ]
  },
  {
   "cell_type": "code",
   "execution_count": null,
   "metadata": {},
   "outputs": [],
   "source": [
    "np.savetxt('resultados_mas_1_camada_tanh.txt',\n",
    "           np.c_[armazenando_score_teste_max,\n",
    "                mse_test,\n",
    "                mae_test,\n",
    "                random_state,\n",
    "                neuronios_camada_1,\n",
    "                tempo_total,\n",
    "                quantidade_arq_testadas],\n",
    "           fmt='%.4f',\n",
    "           comments='',           \n",
    "           header='#armazenando_score_teste_max #mse_test #mae_test #random_state #neuronios_camada_1 #tempo_total #quantidade_arq_testadas',)"
   ]
  },
  {
   "cell_type": "markdown",
   "metadata": {},
   "source": [
    "# Testando 2 camadas"
   ]
  },
  {
   "cell_type": "markdown",
   "metadata": {},
   "source": [
    "Neurônios na 1ª camada oculta: 1 a 100<br>\n",
    "Neurônios na 2ª camada oculta: 1 a 100<br>\n",
    "Função de ativação: Linear Retificada (ReLU)<br>\n",
    "Solver: LBFGS<br>\n",
    "Alpha: 0.01 e 0.3<br>\n",
    "Nº máx. de iterações: 1.000<br>\n",
    "Random state: 0 a 9(inicialização de pesos)<br>"
   ]
  },
  {
   "cell_type": "code",
   "execution_count": null,
   "metadata": {},
   "outputs": [],
   "source": [
    "# Nesta célula são feitas 3 iterações simultâneas:\n",
    "# i) neurônios na 1ª camada oculta;\n",
    "# ii) neurônios na 2ª camada oculta;\n",
    "# ii) alpha.\n",
    "\n",
    "armazenando_score_teste = 0\n",
    "\n",
    "armazenando_score_teste_max = 0\n",
    "\n",
    "inicio = time.time()\n",
    "\n",
    "quantidade_arq_testadas = 0\n",
    "\n",
    "for i in np.arange(1, 101):\n",
    "    for k in np.arange(1, 101):\n",
    "        for z in [0.01, 0.3]:\n",
    "            reg_2 = MLPRegressor(\n",
    "            hidden_layer_sizes=(i,k),\n",
    "            activation='relu',\n",
    "            solver='lbfgs',\n",
    "            alpha=z,\n",
    "            max_iter=1000,\n",
    "            random_state=0,)\n",
    "    \n",
    "            reg_2.fit(X_train_mas, y_train_mas)\n",
    "        \n",
    "            armazenando_score_teste = reg_2.score(X_test_mas, y_test_mas)\n",
    "        \n",
    "            quantidade_arq_testadas += 1\n",
    "                \n",
    "            ultimo_neuronio_camada_1 = i\n",
    "                \n",
    "            ultimo_neuronio_camada_2 = k\n",
    "                \n",
    "            print('Cam 1: %.i' %i, 'Cam 2: %.i' %k, 'Alpha: %.3f' %z, 'Quantidade_arq_testadas: %.i' %quantidade_arq_testadas, 'R² treino: %.2f' %(reg_2.score(X_train_mas, y_train_mas).round(2)*100), 'R² teste: %.2f' %(armazenando_score_teste*100))\n",
    "                \n",
    "            if armazenando_score_teste > armazenando_score_teste_max: # Esse if é utilizado para salvar apenas o melhor valor de Escore no teste e assim otimizar o algoritmo\n",
    "                armazenando_score_teste_max = armazenando_score_teste\n",
    "                mse_test = mean_squared_error(y_test_mas, reg_2.predict(X_test_mas))\n",
    "                mae_test = mean_absolute_error(y_test_mas, reg_2.predict(X_test_mas))\n",
    "                neuronios_camada_1 = i\n",
    "                neuronios_camada_2 = k\n",
    "                alpha = z\n",
    "                \n",
    "        fim = time.time()\n",
    "                \n",
    "        tempo_total = fim - inicio\n",
    "\n",
    "print('Tempo de execução: %.2f' %tempo_total)"
   ]
  },
  {
   "cell_type": "markdown",
   "metadata": {},
   "source": [
    "### Apresentando os melhores resultados"
   ]
  },
  {
   "cell_type": "code",
   "execution_count": null,
   "metadata": {},
   "outputs": [],
   "source": [
    "print('Taxa de acerto do teste: %.2f' %(armazenando_score_teste_max*100))\n",
    "print('Erro Quadrático Médio do teste: %.3f' %mse_test)\n",
    "print('Erro Médio Absoluto do teste: %.3f' %mae_test)"
   ]
  },
  {
   "cell_type": "markdown",
   "metadata": {},
   "source": [
    "### Salvando os resultados em arquivo TXT"
   ]
  },
  {
   "cell_type": "code",
   "execution_count": null,
   "metadata": {},
   "outputs": [],
   "source": [
    "np.savetxt('resultados_mas_2_camada_relu_alphas.txt',\n",
    "           np.c_[armazenando_score_teste_max,\n",
    "                mse_test,\n",
    "                mae_test,\n",
    "                neuronios_camada_1,\n",
    "                neuronios_camada_2,\n",
    "                alpha,\n",
    "                tempo_total,\n",
    "                quantidade_arq_testadas],\n",
    "           fmt='%.4f',\n",
    "           comments='',           \n",
    "           header='#armazenando_score_teste_max #mse_test #mae_test #neuronios_camada_1 #neuronios_camada_2 #alpha #tempo_total #quantidade_arq_testadas',)"
   ]
  },
  {
   "cell_type": "code",
   "execution_count": null,
   "metadata": {},
   "outputs": [],
   "source": []
  }
 ],
 "metadata": {
  "kernelspec": {
   "display_name": "Python 3",
   "language": "python",
   "name": "python3"
  },
  "language_info": {
   "codemirror_mode": {
    "name": "ipython",
    "version": 3
   },
   "file_extension": ".py",
   "mimetype": "text/x-python",
   "name": "python",
   "nbconvert_exporter": "python",
   "pygments_lexer": "ipython3",
   "version": "3.7.6"
  }
 },
 "nbformat": 4,
 "nbformat_minor": 2
}
