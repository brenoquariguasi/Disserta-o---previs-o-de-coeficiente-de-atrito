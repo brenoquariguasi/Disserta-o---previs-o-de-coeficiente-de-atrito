{
 "cells": [
  {
   "cell_type": "code",
   "execution_count": null,
   "metadata": {},
   "outputs": [],
   "source": [
    "# Importando todas as bibliotecas necessárias\n",
    "import numpy as np\n",
    "from numpy.polynomial.polynomial import polyfit\n",
    "import pandas as pd\n",
    "import matplotlib.pyplot as plt\n",
    "from sklearn.model_selection import train_test_split\n",
    "from sklearn.preprocessing import StandardScaler\n",
    "from sklearn.neural_network import MLPRegressor\n",
    "from sklearn.metrics import mean_squared_error, mean_absolute_error\n",
    "\n",
    "%matplotlib inline"
   ]
  },
  {
   "cell_type": "markdown",
   "metadata": {},
   "source": [
    "### Importando o banco de dados"
   ]
  },
  {
   "cell_type": "code",
   "execution_count": null,
   "metadata": {},
   "outputs": [],
   "source": [
    "dados = pd.read_csv('BD 1.csv', sep=';')\n",
    "dados.drop(['Temperatura_ensaio',\n",
    "                    'Temperatura_AISWEB', \n",
    "                     'Umidade_ensaio', \n",
    "                     'Operacoes_anual',\n",
    "                     'Operacoes_medicoes'], \n",
    "                     axis=1,\n",
    "                     inplace=True)"
   ]
  },
  {
   "cell_type": "markdown",
   "metadata": {},
   "source": [
    "### Separando o conjunto de dados de entrada, X, e de saída, Y"
   ]
  },
  {
   "cell_type": "code",
   "execution_count": null,
   "metadata": {},
   "outputs": [],
   "source": [
    "X = dados.loc[:, ['Distancia', 'Macrotextura', 'Lado', 'Remocao', 'Idade_pavimento_meses', 'Umidade_AISWEB', 'Operacoes_remocoes']]\n",
    "Y = dados['Coeficiente de atrito']"
   ]
  },
  {
   "cell_type": "markdown",
   "metadata": {},
   "source": [
    "### Dividindo os conjuntos de dados entre 90% para Treinamento e 10% para Teste"
   ]
  },
  {
   "cell_type": "code",
   "execution_count": null,
   "metadata": {
    "scrolled": true
   },
   "outputs": [],
   "source": [
    "X_train, X_test, y_train, y_test = train_test_split(X, Y, test_size=0.2, random_state=0)\n",
    "print('Shape X_train:', X_train.shape) # Imprime a matriz dos dados de entrada de treinamento\n",
    "print('Shape X_test:', X_test.shape) # Imprime a matriz dos dados de saída de treinamento\n",
    "print('Shape y_train:', y_train.shape) # Imprime a matriz dos dados de entrada de teste\n",
    "print('Shape y_test:', y_test.shape)  # Imprime a matriz dos dados de saída de teste"
   ]
  },
  {
   "cell_type": "markdown",
   "metadata": {},
   "source": [
    "### Pré-processando os dados de entrada utilizando o pré-processamento Standard Scaler"
   ]
  },
  {
   "cell_type": "code",
   "execution_count": null,
   "metadata": {},
   "outputs": [],
   "source": [
    "scaler_x = StandardScaler()\n",
    "scaler_x.fit(X_train) # Ajustando os dados para a média e desvio padrão do conjunto de teste\n",
    "X_train = pd.DataFrame(scaler_x.transform(X_train), columns=X.columns) # Aplicando a transformação no conjunto de treinamento\n",
    "X_test = pd.DataFrame(scaler_x.transform(X_test), columns=X.columns) # O conjunto de teste é pré-processado de acordo com o conjunto de treinamento"
   ]
  },
  {
   "cell_type": "markdown",
   "metadata": {},
   "source": [
    "### Estatística descritiva do conjunto de treinamento"
   ]
  },
  {
   "cell_type": "code",
   "execution_count": null,
   "metadata": {},
   "outputs": [],
   "source": [
    "X_train.describe().round(2)"
   ]
  },
  {
   "cell_type": "markdown",
   "metadata": {},
   "source": [
    "### Estatística descritiva do conjunto de teste"
   ]
  },
  {
   "cell_type": "code",
   "execution_count": null,
   "metadata": {},
   "outputs": [],
   "source": [
    "X_test.describe().round(2)"
   ]
  },
  {
   "cell_type": "markdown",
   "metadata": {},
   "source": [
    "# Rede Neural Artificial"
   ]
  },
  {
   "cell_type": "code",
   "execution_count": null,
   "metadata": {},
   "outputs": [],
   "source": [
    "# A variável reg armazena os hiperparâmetros da Rede Neural Artificial\n",
    "reg = MLPRegressor(hidden_layer_sizes=(21), # Quantidade de camadas ocultas e seus respectivos neurônios\n",
    "                   activation='relu', # Função de ativação\n",
    "                   solver='lbfgs', # Solver utilizado para otimizar os pesos\n",
    "                   alpha=0.1, # Regularizador, atua evitando \"overfitting\"\n",
    "                   random_state=0, # Armazena a inicialização dos pesos, permitindo replicabilidade\n",
    "                   max_iter=500) # Número máximo de iterações\n",
    "reg.fit(X_train, y_train) # Treinando a RNA com o conjunto de dados de treinamento, X_train\n",
    "mae_teste = mean_absolute_error(y_test, reg.predict(X_test))\n",
    "score_teste = reg.score(X_test, y_test)\n",
    "mse_teste = mean_squared_error(y_test, reg.predict(X_test))\n",
    "\n",
    "mae_treino = mean_absolute_error(y_train, reg.predict(X_train))\n",
    "score_treino = reg.score(X_train, y_train)\n",
    "mse_treino = mean_squared_error(y_train, reg.predict(X_train))\n",
    "\n",
    "print('mae_teste: %.3f' %mae_teste, 'mse_teste: %.3f' %mse_teste, 'score_teste: %.2f' %(100*score_teste))\n",
    "print('mae_treinamento: %.3f' %mae_treino, 'mse_treinamento: %.3f' %mse_treino, 'score_treinamento: %.2f' %(100*score_treino))"
   ]
  }
 ],
 "metadata": {
  "kernelspec": {
   "display_name": "Python 3",
   "language": "python",
   "name": "python3"
  },
  "language_info": {
   "codemirror_mode": {
    "name": "ipython",
    "version": 3
   },
   "file_extension": ".py",
   "mimetype": "text/x-python",
   "name": "python",
   "nbconvert_exporter": "python",
   "pygments_lexer": "ipython3",
   "version": "3.7.6"
  }
 },
 "nbformat": 4,
 "nbformat_minor": 2
}
