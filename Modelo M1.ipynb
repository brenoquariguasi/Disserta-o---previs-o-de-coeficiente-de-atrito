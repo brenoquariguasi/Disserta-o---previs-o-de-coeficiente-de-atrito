{
 "cells": [
  {
   "cell_type": "code",
   "execution_count": null,
   "metadata": {},
   "outputs": [],
   "source": [
    "# Importando todas as bibliotecas necessárias\n",
    "import numpy as np\n",
    "from numpy.polynomial.polynomial import polyfit\n",
    "import pandas as pd\n",
    "import matplotlib.pyplot as plt\n",
    "from sklearn.model_selection import train_test_split\n",
    "from sklearn.preprocessing import StandardScaler\n",
    "from sklearn.neural_network import MLPRegressor\n",
    "from sklearn.metrics import mean_squared_error, mean_absolute_error\n",
    "import time\n",
    "import seaborn as sns\n",
    "\n",
    "%matplotlib inline"
   ]
  },
  {
   "cell_type": "markdown",
   "metadata": {},
   "source": [
    "### Importando o banco de dados"
   ]
  },
  {
   "cell_type": "code",
   "execution_count": null,
   "metadata": {},
   "outputs": [],
   "source": [
    "dados = pd.read_csv('Dados.csv', sep=';')\n",
    "dados = dados.drop(['Operacoes_medicoes', 'Operacoes_anual', 'Temperatura_ensaio'], axis=1) # Excluindo as variáveis de tráfego \"Operacoes_medicoes\" e \"Operacoes_anual\"\n",
    "dados.shape"
   ]
  },
  {
   "cell_type": "markdown",
   "metadata": {},
   "source": [
    "### Separando o conjunto de dados de entrada, X, e de saída, Y"
   ]
  },
  {
   "cell_type": "code",
   "execution_count": null,
   "metadata": {},
   "outputs": [],
   "source": [
    "X, Y = pd.DataFrame(dados.iloc[:, :6]), pd.Series(dados.iloc[:, 6])"
   ]
  },
  {
   "cell_type": "markdown",
   "metadata": {},
   "source": [
    "### Dividindo os conjuntos de dados entre 90% para Treinamento e 10% para Teste"
   ]
  },
  {
   "cell_type": "code",
   "execution_count": null,
   "metadata": {
    "scrolled": true
   },
   "outputs": [],
   "source": [
    "X_train, X_test, y_train, y_test = train_test_split(X, Y, test_size=0.1, random_state=0)\n",
    "print('Shape X_train:', X_train.shape) # Imprime a matriz dos dados de entrada de treinamento\n",
    "print('Shape X_test:', X_test.shape) # Imprime a matriz dos dados de saída de treinamento\n",
    "print('Shape y_train:', y_train.shape) # Imprime a matriz dos dados de entrada de teste\n",
    "print('Shape y_test:', y_test.shape)  # Imprime a matriz dos dados de saída de teste"
   ]
  },
  {
   "cell_type": "markdown",
   "metadata": {},
   "source": [
    "### Pré-processando os dados de entrada utilizando o pré-processamento Standard Scaler"
   ]
  },
  {
   "cell_type": "code",
   "execution_count": null,
   "metadata": {},
   "outputs": [],
   "source": [
    "scaler_x = StandardScaler()\n",
    "scaler_x.fit(X_train) # Ajustando os dados para a média e desvio padrão do conjunto de teste\n",
    "X_train = pd.DataFrame(scaler_x.transform(X_train), columns=X.columns) # Aplicando a transformação no conjunto de treinamento\n",
    "X_test = pd.DataFrame(scaler_x.transform(X_test), columns=X.columns) # O conjunto de teste é pré-processado de acordo com o conjunto de treinamento"
   ]
  },
  {
   "cell_type": "markdown",
   "metadata": {},
   "source": [
    "### Estatística descritiva do conjunto de treinamento"
   ]
  },
  {
   "cell_type": "code",
   "execution_count": null,
   "metadata": {},
   "outputs": [],
   "source": [
    "X_train.describe().round(2)"
   ]
  },
  {
   "cell_type": "markdown",
   "metadata": {},
   "source": [
    "### Estatística descritiva do conjunto de teste"
   ]
  },
  {
   "cell_type": "code",
   "execution_count": null,
   "metadata": {},
   "outputs": [],
   "source": [
    "X_test.describe().round(2)"
   ]
  },
  {
   "cell_type": "markdown",
   "metadata": {},
   "source": [
    "***A melhor arquitetura de rede para a variável Nº de operações entre remoções é:***<br>\n",
    "    2 camadas ocultas com 61 e 32 neurônios, respectivamente<br>\n",
    "    alpha de 0.01 <br>\n",
    "    random state = 7    "
   ]
  },
  {
   "cell_type": "markdown",
   "metadata": {},
   "source": [
    "# Rede Neural Artificial"
   ]
  },
  {
   "cell_type": "code",
   "execution_count": null,
   "metadata": {},
   "outputs": [],
   "source": [
    "# A variável reg armazena os hiperparâmetros da Rede Neural Artificial\n",
    "reg = MLPRegressor(hidden_layer_sizes=(61, 32), # Quantidade de camadas ocultas e seus respectivos neurônios\n",
    "                activation='relu', # Função de ativação\n",
    "                solver='lbfgs', # Solver utilizado para otimizar os pesos\n",
    "                alpha=0.01, # Regularizador, atua evitando \"overfitting\"\n",
    "                random_state=7, # Armazena a inicialização dos pesos, permitindo replicabilidade\n",
    "                max_iter=1000) # Número máximo de iterações\n",
    "reg.fit(X_train, y_train) # Treinando a RNA com o conjunto de dados de treinamento, X_train"
   ]
  },
  {
   "cell_type": "code",
   "execution_count": null,
   "metadata": {},
   "outputs": [],
   "source": [
    "# Apresentando os resultados do Treinamento\n",
    "print('R² treinamento: %.2f' %(reg.score(X_train, y_train)*100))\n",
    "print('Erro Médio Absoluto: %.3f' %mean_absolute_error(y_train, reg.predict(X_train)))\n",
    "print('Erro Médio Quadrático: %.3f\\n' %mean_squared_error(y_train, reg.predict(X_train)))\n",
    "\n",
    "# Apresentando os resultados do Teste\n",
    "print('R² teste: %.2f' %(reg.score(X_test, y_test)*100))\n",
    "print('Erro Médio Absoluto: %.3f' %mean_absolute_error(y_test, reg.predict(X_test)))\n",
    "print('Erro Médio Quadrático: %.3f' %mean_squared_error(y_test, reg.predict(X_test)))"
   ]
  },
  {
   "cell_type": "markdown",
   "metadata": {},
   "source": [
    "### Plotando o gráfico de dispersão do treinamento"
   ]
  },
  {
   "cell_type": "code",
   "execution_count": null,
   "metadata": {},
   "outputs": [],
   "source": [
    "plt.style.use('seaborn')\n",
    "y_train_predicted = pd.Series(reg.predict(X_train))\n",
    "\n",
    "plt.figure(figsize=(6, 6))\n",
    "plt.scatter(y_train, y_train_predicted, alpha=0.5)\n",
    "plt.title('Treinamento M1', fontsize=18)\n",
    "plt.xlabel('Coeficiente de atrito observado', fontsize=14)\n",
    "plt.ylabel('Coeficiente de atrito estimado', fontsize=14)\n",
    "\n",
    "b, m = polyfit(y_train, y_train_predicted, 1)\n",
    "plt.plot(y_train, b + m * y_train, '-', color='k', alpha=0.5)\n",
    "plt.text(0.5, 0.95, \"y = %.3fx + %.3f\"%(m, b), fontsize=14)\n",
    "\n",
    "plt.tight_layout()\n",
    "plt.savefig('Grafico_dispersao_treinamento_M1.png', dpi=300)\n",
    "plt.show()"
   ]
  },
  {
   "cell_type": "markdown",
   "metadata": {},
   "source": [
    "### Plotando o gráfico de dispersão do teste"
   ]
  },
  {
   "cell_type": "code",
   "execution_count": null,
   "metadata": {},
   "outputs": [],
   "source": [
    "y_test_predicted = pd.Series(reg.predict(X_test))\n",
    "\n",
    "plt.figure(figsize=(6, 6))\n",
    "plt.scatter(y_test, y_test_predicted, alpha=0.5)\n",
    "plt.title('Teste M1', fontsize=18)\n",
    "plt.xlabel('Coeficiente de atrito observado', fontsize=14)\n",
    "plt.ylabel('Coeficiente de atrito estimado', fontsize=14)\n",
    "\n",
    "b, m = polyfit(y_test, y_test_predicted, 1)\n",
    "plt.plot(y_test, b + m * y_test, '-', color='k', alpha=0.5)\n",
    "plt.text(0.55, 0.9, \"y = %.3fx + %.3f\"%(m, b), fontsize=14)\n",
    "\n",
    "plt.tight_layout()\n",
    "plt.savefig('Grafico_dispersao_teste_M1.png', dpi=300)\n",
    "plt.show()"
   ]
  },
  {
   "cell_type": "markdown",
   "metadata": {},
   "source": [
    "# Aplicando à ultima medição de coeficiente de atrito (14/08/2019)"
   ]
  },
  {
   "cell_type": "code",
   "execution_count": null,
   "metadata": {},
   "outputs": [],
   "source": [
    "# Importando os dados\n",
    "novo_conjunto = pd.read_csv('Aplicacao.csv', sep=';')\n",
    "novo_conjunto = novo_conjunto.drop(['Temperatura_ensaio', 'Operacoes_medicoes', 'Operacoes_anual'], axis=1)\n",
    "X_novo, Y_novo = pd.DataFrame(novo_conjunto.iloc[:, :6], columns=X.columns), pd.Series(novo_conjunto.iloc[:, 6])\n",
    "X_novo_normalizados = pd.DataFrame(scaler_x.transform(X_novo), columns=X.columns)\n",
    "coeficiente_atrito_previsto_novo = pd.Series(reg.predict(X_novo_normalizados))"
   ]
  },
  {
   "cell_type": "code",
   "execution_count": null,
   "metadata": {},
   "outputs": [],
   "source": [
    "coeficiente_atrito_previsto_novo.describe().round(2)"
   ]
  },
  {
   "cell_type": "markdown",
   "metadata": {},
   "source": [
    "### Plotando histograma de coeficiente de atrito previstos"
   ]
  },
  {
   "cell_type": "code",
   "execution_count": null,
   "metadata": {},
   "outputs": [],
   "source": [
    "plt.style.use('seaborn')\n",
    "plt.hist(coeficiente_atrito_previsto_novo, ec='black')\n",
    "plt.xlabel('Coeficiente de atrito', fontsize=14)\n",
    "plt.ylabel('Frequência', fontsize=14)\n",
    "plt.title('Histograma de coeficiente de atrito', fontsize=18)\n",
    "plt.savefig('Histograma_de_coeficiente_de_atrito_modelo_alpha_0.01.png', dpi=300)"
   ]
  },
  {
   "cell_type": "code",
   "execution_count": null,
   "metadata": {
    "scrolled": true
   },
   "outputs": [],
   "source": [
    "print('Erro Médio Absoluto: %.3f' %mean_absolute_error(Y_novo, coeficiente_atrito_previsto_novo))\n",
    "print('Erro Quadrático Médio: %.3f' %mean_squared_error(Y_novo, coeficiente_atrito_previsto_novo))\n",
    "print('R²: %.2f' %(reg.score(X_novo_normalizados, Y_novo)*100))"
   ]
  },
  {
   "cell_type": "markdown",
   "metadata": {},
   "source": [
    "### Plotando o gráfico de dispersão da validação"
   ]
  },
  {
   "cell_type": "code",
   "execution_count": null,
   "metadata": {},
   "outputs": [],
   "source": [
    "plt.figure(figsize=(6, 6))\n",
    "plt.scatter(Y_novo, coeficiente_atrito_previsto_novo)\n",
    "plt.title('Validação', fontsize=18)\n",
    "plt.xlabel('Coeficiente de atrito observado', fontsize=14)\n",
    "plt.ylabel('Coeficiente de atrito estimado', fontsize=14)\n",
    "\n",
    "b, m = polyfit(Y_novo, coeficiente_atrito_previsto_novo, 1)\n",
    "plt.plot(Y_novo, b + m * Y_novo, '-', color='k', alpha=0.5)\n",
    "plt.text(0.55, 1.5, \"y = %.3fx + %.3f\"%(m, b), fontsize=14)\n",
    "\n",
    "plt.tight_layout()\n",
    "plt.savefig('Grafico_dispersao_aplicacao_M1.png', dpi=300)\n",
    "plt.show()"
   ]
  },
  {
   "cell_type": "markdown",
   "metadata": {},
   "source": [
    "### Estatística descritiva do coeficiente de atrito previsto"
   ]
  },
  {
   "cell_type": "code",
   "execution_count": null,
   "metadata": {
    "scrolled": false
   },
   "outputs": [],
   "source": [
    "coeficiente_atrito_previsto_novo.describe().round(2)"
   ]
  },
  {
   "cell_type": "markdown",
   "metadata": {},
   "source": [
    "### Estatística descritiva do coeficiente de atrito observado"
   ]
  },
  {
   "cell_type": "code",
   "execution_count": null,
   "metadata": {},
   "outputs": [],
   "source": [
    "Y_novo.describe().round(2)"
   ]
  }
 ],
 "metadata": {
  "kernelspec": {
   "display_name": "Python 3",
   "language": "python",
   "name": "python3"
  },
  "language_info": {
   "codemirror_mode": {
    "name": "ipython",
    "version": 3
   },
   "file_extension": ".py",
   "mimetype": "text/x-python",
   "name": "python",
   "nbconvert_exporter": "python",
   "pygments_lexer": "ipython3",
   "version": "3.7.6"
  }
 },
 "nbformat": 4,
 "nbformat_minor": 2
}
